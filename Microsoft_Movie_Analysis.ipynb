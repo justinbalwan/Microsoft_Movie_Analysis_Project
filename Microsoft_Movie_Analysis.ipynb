{
 "cells": [
  {
   "cell_type": "markdown",
   "metadata": {},
   "source": [
    "![example](images/director_shot.jpeg)"
   ]
  },
  {
   "cell_type": "markdown",
   "metadata": {},
   "source": [
    "# Microsoft Movie Analysis\n",
    "\n",
    "**Author:** Justin Balwan\n",
    "***"
   ]
  },
  {
   "cell_type": "markdown",
   "metadata": {},
   "source": [
    "## Overview\n",
    "\n",
    "This project focuses on discovering the aspects of top worldwide grossing films so that Microsoft's new movie studio can emulate them to determine how they should create their films. Given a movie database containing various files, descriptive analysis was conducted to isolate the top grossing genres, top grossing years, and top grossing studios. The results and recommendations go hand in hand; with regards to genre, Microsoft's new movie studio should produce films with the genres Fantasy, Musical, Sci-Fi, Adventure, and Animation. With regards to years, Microsoft's new movie studio should study the films produced in 2018, 2017, 2016, 2012, and 2010 to explore any common or shared trends. Finally, with regard to studios, Microsoft's new movie studio should observe MUBI, Spanglish, Super, Blue Fox, and RLJ studios."
   ]
  },
  {
   "cell_type": "markdown",
   "metadata": {},
   "source": [
    "![microsoft logo](images/film1.jpg)"
   ]
  },
  {
   "cell_type": "markdown",
   "metadata": {},
   "source": [
    "## Business Problem\n",
    "\n",
    "Microsoft's main objective with this project is to determine which films are currently doing the best in the box office. Doing so aids Microsoft in deciding which type of films they want to produce. When deciding how to properly portray the current successful films, I chose to analyze the top worldwide grossing films. Even though a film may be rated poorly, it still has the ability to top the charts in the box office. All other measures of success – such as rating or popularity – are subjective and inaccurately portray how well a film is doing. If Microsoft implements changes based on the factors that makes these top grossing films stay at the top, they will experience success of their own."
   ]
  },
  {
   "cell_type": "markdown",
   "metadata": {},
   "source": [
    "## Data Understanding\n",
    "\n",
    "All of the information provided for this project came from a larger movie database which contained files that extracted information from popular movie information websites. These websites include IMDB, Box Office Mojo, Rotten Tomatoes, The Numbers, and TheMoviesDB. The various files within this database contained related information such as a film's genre, language, budget, actors, and much more. For this project, I intended to provide Microsoft with effective recommendations by examining what makes the current films so successful. I decided that the current successful films were successful because of the amount of worldwide gross they earned. Therefore, my target variable became worldwide gross. From there, I decided to focus in on different aspects related to worldwide gross; I chose to measure the top worldwide grossing genres, the top worldwide grossing years, and the top worldwide grossing studios."
   ]
  },
  {
   "cell_type": "markdown",
   "metadata": {},
   "source": [
    "#### Importing Standard Packages & Importing Data"
   ]
  },
  {
   "cell_type": "code",
   "execution_count": 2,
   "metadata": {},
   "outputs": [],
   "source": [
    "# Import standard packages\n",
    "import pandas as pd\n",
    "import numpy as np\n",
    "import matplotlib.pyplot as plt\n",
    "import seaborn as sns\n",
    "\n",
    "%matplotlib inline"
   ]
  },
  {
   "cell_type": "code",
   "execution_count": 3,
   "metadata": {},
   "outputs": [],
   "source": [
    "#Importing Data Using Glob\n",
    "import os\n",
    "from glob import glob\n",
    "import pandas as pd\n",
    "\n",
    "csv_files = glob(\"./zippedData/*.csv.gz\")\n",
    "csv_files\n",
    "\n",
    "csv_files_dict = {}\n",
    "for filename in csv_files:\n",
    "    filename_cleaned = os.path.basename(filename).replace(\".csv\", \"\").replace(\".\", \"_\") # cleaning the filename\n",
    "    filename_df = pd.read_csv(filename, index_col=0)\n",
    "    csv_files_dict[filename_cleaned] = filename_df"
   ]
  },
  {
   "cell_type": "code",
   "execution_count": 4,
   "metadata": {
    "scrolled": true
   },
   "outputs": [
    {
     "data": {
      "text/plain": [
       "['./zippedData/imdb.title.crew.csv.gz',\n",
       " './zippedData/tmdb.movies.csv.gz',\n",
       " './zippedData/imdb.title.akas.csv.gz',\n",
       " './zippedData/imdb.title.ratings.csv.gz',\n",
       " './zippedData/imdb.name.basics.csv.gz',\n",
       " './zippedData/imdb.title.basics.csv.gz',\n",
       " './zippedData/tn.movie_budgets.csv.gz',\n",
       " './zippedData/bom.movie_gross.csv.gz',\n",
       " './zippedData/imdb.title.principals.csv.gz']"
      ]
     },
     "execution_count": 4,
     "metadata": {},
     "output_type": "execute_result"
    }
   ],
   "source": [
    "csv_files"
   ]
  },
  {
   "cell_type": "code",
   "execution_count": 5,
   "metadata": {},
   "outputs": [
    {
     "data": {
      "text/plain": [
       "{'imdb_title_crew_gz':                                directors              writers\n",
       " tconst                                                       \n",
       " tt0285252                      nm0899854            nm0899854\n",
       " tt0438973                            NaN  nm0175726,nm1802864\n",
       " tt0462036                      nm1940585            nm1940585\n",
       " tt0835418                      nm0151540  nm0310087,nm0841532\n",
       " tt0878654  nm0089502,nm2291498,nm2292011            nm0284943\n",
       " ...                                  ...                  ...\n",
       " tt8999974                     nm10122357           nm10122357\n",
       " tt9001390                      nm6711477            nm6711477\n",
       " tt9001494          nm10123242,nm10123248                  NaN\n",
       " tt9004986                      nm4993825            nm4993825\n",
       " tt9010172                            NaN            nm8352242\n",
       " \n",
       " [146144 rows x 2 columns],\n",
       " 'tmdb_movies_gz':                  genre_ids      id original_language  \\\n",
       " 0          [12, 14, 10751]   12444                en   \n",
       " 1      [14, 12, 16, 10751]   10191                en   \n",
       " 2            [12, 28, 878]   10138                en   \n",
       " 3          [16, 35, 10751]     862                en   \n",
       " 4            [28, 878, 12]   27205                en   \n",
       " ...                    ...     ...               ...   \n",
       " 26512             [27, 18]  488143                en   \n",
       " 26513             [18, 53]  485975                en   \n",
       " 26514         [14, 28, 12]  381231                en   \n",
       " 26515      [10751, 12, 28]  366854                en   \n",
       " 26516             [53, 27]  309885                en   \n",
       " \n",
       "                                      original_title  popularity release_date  \\\n",
       " 0      Harry Potter and the Deathly Hallows: Part 1      33.533   2010-11-19   \n",
       " 1                          How to Train Your Dragon      28.734   2010-03-26   \n",
       " 2                                        Iron Man 2      28.515   2010-05-07   \n",
       " 3                                         Toy Story      28.005   1995-11-22   \n",
       " 4                                         Inception      27.920   2010-07-16   \n",
       " ...                                             ...         ...          ...   \n",
       " 26512                         Laboratory Conditions       0.600   2018-10-13   \n",
       " 26513                               _EXHIBIT_84xxx_       0.600   2018-05-01   \n",
       " 26514                                  The Last One       0.600   2018-10-01   \n",
       " 26515                                  Trailer Made       0.600   2018-06-22   \n",
       " 26516                                    The Church       0.600   2018-10-05   \n",
       " \n",
       "                                               title  vote_average  vote_count  \n",
       " 0      Harry Potter and the Deathly Hallows: Part 1           7.7       10788  \n",
       " 1                          How to Train Your Dragon           7.7        7610  \n",
       " 2                                        Iron Man 2           6.8       12368  \n",
       " 3                                         Toy Story           7.9       10174  \n",
       " 4                                         Inception           8.3       22186  \n",
       " ...                                             ...           ...         ...  \n",
       " 26512                         Laboratory Conditions           0.0           1  \n",
       " 26513                               _EXHIBIT_84xxx_           0.0           1  \n",
       " 26514                                  The Last One           0.0           1  \n",
       " 26515                                  Trailer Made           0.0           1  \n",
       " 26516                                    The Church           0.0           1  \n",
       " \n",
       " [26517 rows x 9 columns],\n",
       " 'imdb_title_akas_gz':            ordering                                    title region language  \\\n",
       " title_id                                                                       \n",
       " tt0369610        10                            Джурасик свят     BG       bg   \n",
       " tt0369610        11                        Jurashikku warudo     JP      NaN   \n",
       " tt0369610        12  Jurassic World: O Mundo dos Dinossauros     BR      NaN   \n",
       " tt0369610        13                  O Mundo dos Dinossauros     BR      NaN   \n",
       " tt0369610        14                           Jurassic World     FR      NaN   \n",
       " ...             ...                                      ...    ...      ...   \n",
       " tt9827784         2                       Sayonara kuchibiru    NaN      NaN   \n",
       " tt9827784         3                            Farewell Song    XWW       en   \n",
       " tt9880178         1                              La atención    NaN      NaN   \n",
       " tt9880178         2                              La atención     ES      NaN   \n",
       " tt9880178         3                            The Attention    XWW       en   \n",
       " \n",
       "                  types   attributes  is_original_title  \n",
       " title_id                                                \n",
       " tt0369610          NaN          NaN                0.0  \n",
       " tt0369610  imdbDisplay          NaN                0.0  \n",
       " tt0369610  imdbDisplay          NaN                0.0  \n",
       " tt0369610          NaN  short title                0.0  \n",
       " tt0369610  imdbDisplay          NaN                0.0  \n",
       " ...                ...          ...                ...  \n",
       " tt9827784     original          NaN                1.0  \n",
       " tt9827784  imdbDisplay          NaN                0.0  \n",
       " tt9880178     original          NaN                1.0  \n",
       " tt9880178          NaN          NaN                0.0  \n",
       " tt9880178  imdbDisplay          NaN                0.0  \n",
       " \n",
       " [331703 rows x 7 columns],\n",
       " 'imdb_title_ratings_gz':             averagerating  numvotes\n",
       " tconst                             \n",
       " tt10356526            8.3        31\n",
       " tt10384606            8.9       559\n",
       " tt1042974             6.4        20\n",
       " tt1043726             4.2     50352\n",
       " tt1060240             6.5        21\n",
       " ...                   ...       ...\n",
       " tt9805820             8.1        25\n",
       " tt9844256             7.5        24\n",
       " tt9851050             4.7        14\n",
       " tt9886934             7.0         5\n",
       " tt9894098             6.3       128\n",
       " \n",
       " [73856 rows x 2 columns],\n",
       " 'imdb_name_basics_gz':                   primary_name  birth_year  death_year  \\\n",
       " nconst                                                   \n",
       " nm0061671    Mary Ellen Bauder         NaN         NaN   \n",
       " nm0061865         Joseph Bauer         NaN         NaN   \n",
       " nm0062070           Bruce Baum         NaN         NaN   \n",
       " nm0062195         Axel Baumann         NaN         NaN   \n",
       " nm0062798          Pete Baxter         NaN         NaN   \n",
       " ...                        ...         ...         ...   \n",
       " nm9990381         Susan Grobes         NaN         NaN   \n",
       " nm9990690          Joo Yeon So         NaN         NaN   \n",
       " nm9991320       Madeline Smith         NaN         NaN   \n",
       " nm9991786  Michelle Modigliani         NaN         NaN   \n",
       " nm9993380       Pegasus Envoyé         NaN         NaN   \n",
       " \n",
       "                                          primary_profession  \\\n",
       " nconst                                                        \n",
       " nm0061671         miscellaneous,production_manager,producer   \n",
       " nm0061865        composer,music_department,sound_department   \n",
       " nm0062070                        miscellaneous,actor,writer   \n",
       " nm0062195  camera_department,cinematographer,art_department   \n",
       " nm0062798  production_designer,art_department,set_decorator   \n",
       " ...                                                     ...   \n",
       " nm9990381                                           actress   \n",
       " nm9990690                                           actress   \n",
       " nm9991320                                           actress   \n",
       " nm9991786                                          producer   \n",
       " nm9993380                             director,actor,writer   \n",
       " \n",
       "                                   known_for_titles  \n",
       " nconst                                              \n",
       " nm0061671  tt0837562,tt2398241,tt0844471,tt0118553  \n",
       " nm0061865  tt0896534,tt6791238,tt0287072,tt1682940  \n",
       " nm0062070  tt1470654,tt0363631,tt0104030,tt0102898  \n",
       " nm0062195  tt0114371,tt2004304,tt1618448,tt1224387  \n",
       " nm0062798  tt0452644,tt0452692,tt3458030,tt2178256  \n",
       " ...                                            ...  \n",
       " nm9990381                                      NaN  \n",
       " nm9990690                      tt9090932,tt8737130  \n",
       " nm9991320                      tt8734436,tt9615610  \n",
       " nm9991786                                      NaN  \n",
       " nm9993380                                tt8743182  \n",
       " \n",
       " [606648 rows x 5 columns],\n",
       " 'imdb_title_basics_gz':                                          primary_title  \\\n",
       " tconst                                                   \n",
       " tt0063540                                    Sunghursh   \n",
       " tt0066787              One Day Before the Rainy Season   \n",
       " tt0069049                   The Other Side of the Wind   \n",
       " tt0069204                              Sabse Bada Sukh   \n",
       " tt0100275                     The Wandering Soap Opera   \n",
       " ...                                                ...   \n",
       " tt9916538                          Kuambil Lagi Hatiku   \n",
       " tt9916622  Rodolpho Teóphilo - O Legado de um Pioneiro   \n",
       " tt9916706                              Dankyavar Danka   \n",
       " tt9916730                                       6 Gunn   \n",
       " tt9916754               Chico Albuquerque - Revelações   \n",
       " \n",
       "                                         original_title  start_year  \\\n",
       " tconst                                                               \n",
       " tt0063540                                    Sunghursh        2013   \n",
       " tt0066787                              Ashad Ka Ek Din        2019   \n",
       " tt0069049                   The Other Side of the Wind        2018   \n",
       " tt0069204                              Sabse Bada Sukh        2018   \n",
       " tt0100275                        La Telenovela Errante        2017   \n",
       " ...                                                ...         ...   \n",
       " tt9916538                          Kuambil Lagi Hatiku        2019   \n",
       " tt9916622  Rodolpho Teóphilo - O Legado de um Pioneiro        2015   \n",
       " tt9916706                              Dankyavar Danka        2013   \n",
       " tt9916730                                       6 Gunn        2017   \n",
       " tt9916754               Chico Albuquerque - Revelações        2013   \n",
       " \n",
       "            runtime_minutes                genres  \n",
       " tconst                                            \n",
       " tt0063540            175.0    Action,Crime,Drama  \n",
       " tt0066787            114.0       Biography,Drama  \n",
       " tt0069049            122.0                 Drama  \n",
       " tt0069204              NaN          Comedy,Drama  \n",
       " tt0100275             80.0  Comedy,Drama,Fantasy  \n",
       " ...                    ...                   ...  \n",
       " tt9916538            123.0                 Drama  \n",
       " tt9916622              NaN           Documentary  \n",
       " tt9916706              NaN                Comedy  \n",
       " tt9916730            116.0                   NaN  \n",
       " tt9916754              NaN           Documentary  \n",
       " \n",
       " [146144 rows x 5 columns],\n",
       " 'tn_movie_budgets_gz':     release_date                                        movie  \\\n",
       " id                                                              \n",
       " 1   Dec 18, 2009                                       Avatar   \n",
       " 2   May 20, 2011  Pirates of the Caribbean: On Stranger Tides   \n",
       " 3    Jun 7, 2019                                 Dark Phoenix   \n",
       " 4    May 1, 2015                      Avengers: Age of Ultron   \n",
       " 5   Dec 15, 2017            Star Wars Ep. VIII: The Last Jedi   \n",
       " ..           ...                                          ...   \n",
       " 78  Dec 31, 2018                                       Red 11   \n",
       " 79   Apr 2, 1999                                    Following   \n",
       " 80  Jul 13, 2005                Return to the Land of Wonders   \n",
       " 81  Sep 29, 2015                         A Plague So Pleasant   \n",
       " 82   Aug 5, 2005                            My Date With Drew   \n",
       " \n",
       "    production_budget domestic_gross worldwide_gross  \n",
       " id                                                   \n",
       " 1       $425,000,000   $760,507,625  $2,776,345,279  \n",
       " 2       $410,600,000   $241,063,875  $1,045,663,875  \n",
       " 3       $350,000,000    $42,762,350    $149,762,350  \n",
       " 4       $330,600,000   $459,005,868  $1,403,013,963  \n",
       " 5       $317,000,000   $620,181,382  $1,316,721,747  \n",
       " ..               ...            ...             ...  \n",
       " 78            $7,000             $0              $0  \n",
       " 79            $6,000        $48,482        $240,495  \n",
       " 80            $5,000         $1,338          $1,338  \n",
       " 81            $1,400             $0              $0  \n",
       " 82            $1,100       $181,041        $181,041  \n",
       " \n",
       " [5782 rows x 5 columns],\n",
       " 'bom_movie_gross_gz':                                                  studio  domestic_gross  \\\n",
       " title                                                                     \n",
       " Toy Story 3                                          BV     415000000.0   \n",
       " Alice in Wonderland (2010)                           BV     334200000.0   \n",
       " Harry Potter and the Deathly Hallows Part 1          WB     296000000.0   \n",
       " Inception                                            WB     292600000.0   \n",
       " Shrek Forever After                                P/DW     238700000.0   \n",
       " ...                                                 ...             ...   \n",
       " The Quake                                         Magn.          6200.0   \n",
       " Edward II (2018 re-release)                          FM          4800.0   \n",
       " El Pacto                                           Sony          2500.0   \n",
       " The Swan                                     Synergetic          2400.0   \n",
       " An Actor Prepares                                 Grav.          1700.0   \n",
       " \n",
       "                                             foreign_gross  year  \n",
       " title                                                            \n",
       " Toy Story 3                                     652000000  2010  \n",
       " Alice in Wonderland (2010)                      691300000  2010  \n",
       " Harry Potter and the Deathly Hallows Part 1     664300000  2010  \n",
       " Inception                                       535700000  2010  \n",
       " Shrek Forever After                             513900000  2010  \n",
       " ...                                                   ...   ...  \n",
       " The Quake                                             NaN  2018  \n",
       " Edward II (2018 re-release)                           NaN  2018  \n",
       " El Pacto                                              NaN  2018  \n",
       " The Swan                                              NaN  2018  \n",
       " An Actor Prepares                                     NaN  2018  \n",
       " \n",
       " [3387 rows x 4 columns],\n",
       " 'imdb_title_principals_gz':            ordering      nconst  category       job            characters\n",
       " tconst                                                                   \n",
       " tt0111414         1   nm0246005     actor       NaN           [\"The Man\"]\n",
       " tt0111414         2   nm0398271  director       NaN                   NaN\n",
       " tt0111414         3   nm3739909  producer  producer                   NaN\n",
       " tt0323808        10   nm0059247    editor       NaN                   NaN\n",
       " tt0323808         1   nm3579312   actress       NaN      [\"Beth Boothby\"]\n",
       " ...             ...         ...       ...       ...                   ...\n",
       " tt9692684         1   nm0186469     actor       NaN  [\"Ebenezer Scrooge\"]\n",
       " tt9692684         2   nm4929530      self       NaN   [\"Herself\",\"Regan\"]\n",
       " tt9692684         3  nm10441594  director       NaN                   NaN\n",
       " tt9692684         4   nm6009913    writer    writer                   NaN\n",
       " tt9692684         5  nm10441595  producer  producer                   NaN\n",
       " \n",
       " [1028186 rows x 5 columns]}"
      ]
     },
     "execution_count": 5,
     "metadata": {},
     "output_type": "execute_result"
    }
   ],
   "source": [
    "csv_files_dict"
   ]
  },
  {
   "cell_type": "code",
   "execution_count": 6,
   "metadata": {},
   "outputs": [
    {
     "data": {
      "text/plain": [
       "dict_keys(['imdb_title_crew_gz', 'tmdb_movies_gz', 'imdb_title_akas_gz', 'imdb_title_ratings_gz', 'imdb_name_basics_gz', 'imdb_title_basics_gz', 'tn_movie_budgets_gz', 'bom_movie_gross_gz', 'imdb_title_principals_gz'])"
      ]
     },
     "execution_count": 6,
     "metadata": {},
     "output_type": "execute_result"
    }
   ],
   "source": [
    "csv_files_dict.keys()"
   ]
  },
  {
   "cell_type": "markdown",
   "metadata": {},
   "source": [
    "### Creating Data Frames\n",
    "The box office mojo gross data, title basics, title ratings, and the numbers movie budget."
   ]
  },
  {
   "cell_type": "markdown",
   "metadata": {},
   "source": [
    "#### Box Office Mojo Gross Data"
   ]
  },
  {
   "cell_type": "code",
   "execution_count": 7,
   "metadata": {},
   "outputs": [
    {
     "data": {
      "text/html": [
       "<div>\n",
       "<style scoped>\n",
       "    .dataframe tbody tr th:only-of-type {\n",
       "        vertical-align: middle;\n",
       "    }\n",
       "\n",
       "    .dataframe tbody tr th {\n",
       "        vertical-align: top;\n",
       "    }\n",
       "\n",
       "    .dataframe thead th {\n",
       "        text-align: right;\n",
       "    }\n",
       "</style>\n",
       "<table border=\"1\" class=\"dataframe\">\n",
       "  <thead>\n",
       "    <tr style=\"text-align: right;\">\n",
       "      <th></th>\n",
       "      <th>studio</th>\n",
       "      <th>domestic_gross</th>\n",
       "      <th>foreign_gross</th>\n",
       "      <th>year</th>\n",
       "    </tr>\n",
       "    <tr>\n",
       "      <th>title</th>\n",
       "      <th></th>\n",
       "      <th></th>\n",
       "      <th></th>\n",
       "      <th></th>\n",
       "    </tr>\n",
       "  </thead>\n",
       "  <tbody>\n",
       "    <tr>\n",
       "      <th>Toy Story 3</th>\n",
       "      <td>BV</td>\n",
       "      <td>415000000.0</td>\n",
       "      <td>652000000</td>\n",
       "      <td>2010</td>\n",
       "    </tr>\n",
       "    <tr>\n",
       "      <th>Alice in Wonderland (2010)</th>\n",
       "      <td>BV</td>\n",
       "      <td>334200000.0</td>\n",
       "      <td>691300000</td>\n",
       "      <td>2010</td>\n",
       "    </tr>\n",
       "    <tr>\n",
       "      <th>Harry Potter and the Deathly Hallows Part 1</th>\n",
       "      <td>WB</td>\n",
       "      <td>296000000.0</td>\n",
       "      <td>664300000</td>\n",
       "      <td>2010</td>\n",
       "    </tr>\n",
       "    <tr>\n",
       "      <th>Inception</th>\n",
       "      <td>WB</td>\n",
       "      <td>292600000.0</td>\n",
       "      <td>535700000</td>\n",
       "      <td>2010</td>\n",
       "    </tr>\n",
       "    <tr>\n",
       "      <th>Shrek Forever After</th>\n",
       "      <td>P/DW</td>\n",
       "      <td>238700000.0</td>\n",
       "      <td>513900000</td>\n",
       "      <td>2010</td>\n",
       "    </tr>\n",
       "  </tbody>\n",
       "</table>\n",
       "</div>"
      ],
      "text/plain": [
       "                                            studio  domestic_gross  \\\n",
       "title                                                                \n",
       "Toy Story 3                                     BV     415000000.0   \n",
       "Alice in Wonderland (2010)                      BV     334200000.0   \n",
       "Harry Potter and the Deathly Hallows Part 1     WB     296000000.0   \n",
       "Inception                                       WB     292600000.0   \n",
       "Shrek Forever After                           P/DW     238700000.0   \n",
       "\n",
       "                                            foreign_gross  year  \n",
       "title                                                            \n",
       "Toy Story 3                                     652000000  2010  \n",
       "Alice in Wonderland (2010)                      691300000  2010  \n",
       "Harry Potter and the Deathly Hallows Part 1     664300000  2010  \n",
       "Inception                                       535700000  2010  \n",
       "Shrek Forever After                             513900000  2010  "
      ]
     },
     "execution_count": 7,
     "metadata": {},
     "output_type": "execute_result"
    }
   ],
   "source": [
    "bom_movie_gross_df = csv_files_dict['bom_movie_gross_gz']\n",
    "bom_movie_gross_df.head()"
   ]
  },
  {
   "cell_type": "markdown",
   "metadata": {},
   "source": [
    "#### Title Basics Data"
   ]
  },
  {
   "cell_type": "code",
   "execution_count": 8,
   "metadata": {},
   "outputs": [
    {
     "data": {
      "text/html": [
       "<div>\n",
       "<style scoped>\n",
       "    .dataframe tbody tr th:only-of-type {\n",
       "        vertical-align: middle;\n",
       "    }\n",
       "\n",
       "    .dataframe tbody tr th {\n",
       "        vertical-align: top;\n",
       "    }\n",
       "\n",
       "    .dataframe thead th {\n",
       "        text-align: right;\n",
       "    }\n",
       "</style>\n",
       "<table border=\"1\" class=\"dataframe\">\n",
       "  <thead>\n",
       "    <tr style=\"text-align: right;\">\n",
       "      <th></th>\n",
       "      <th>primary_title</th>\n",
       "      <th>original_title</th>\n",
       "      <th>start_year</th>\n",
       "      <th>runtime_minutes</th>\n",
       "      <th>genres</th>\n",
       "    </tr>\n",
       "    <tr>\n",
       "      <th>tconst</th>\n",
       "      <th></th>\n",
       "      <th></th>\n",
       "      <th></th>\n",
       "      <th></th>\n",
       "      <th></th>\n",
       "    </tr>\n",
       "  </thead>\n",
       "  <tbody>\n",
       "    <tr>\n",
       "      <th>tt0063540</th>\n",
       "      <td>Sunghursh</td>\n",
       "      <td>Sunghursh</td>\n",
       "      <td>2013</td>\n",
       "      <td>175.0</td>\n",
       "      <td>Action,Crime,Drama</td>\n",
       "    </tr>\n",
       "    <tr>\n",
       "      <th>tt0066787</th>\n",
       "      <td>One Day Before the Rainy Season</td>\n",
       "      <td>Ashad Ka Ek Din</td>\n",
       "      <td>2019</td>\n",
       "      <td>114.0</td>\n",
       "      <td>Biography,Drama</td>\n",
       "    </tr>\n",
       "    <tr>\n",
       "      <th>tt0069049</th>\n",
       "      <td>The Other Side of the Wind</td>\n",
       "      <td>The Other Side of the Wind</td>\n",
       "      <td>2018</td>\n",
       "      <td>122.0</td>\n",
       "      <td>Drama</td>\n",
       "    </tr>\n",
       "    <tr>\n",
       "      <th>tt0069204</th>\n",
       "      <td>Sabse Bada Sukh</td>\n",
       "      <td>Sabse Bada Sukh</td>\n",
       "      <td>2018</td>\n",
       "      <td>NaN</td>\n",
       "      <td>Comedy,Drama</td>\n",
       "    </tr>\n",
       "    <tr>\n",
       "      <th>tt0100275</th>\n",
       "      <td>The Wandering Soap Opera</td>\n",
       "      <td>La Telenovela Errante</td>\n",
       "      <td>2017</td>\n",
       "      <td>80.0</td>\n",
       "      <td>Comedy,Drama,Fantasy</td>\n",
       "    </tr>\n",
       "  </tbody>\n",
       "</table>\n",
       "</div>"
      ],
      "text/plain": [
       "                             primary_title              original_title  \\\n",
       "tconst                                                                   \n",
       "tt0063540                        Sunghursh                   Sunghursh   \n",
       "tt0066787  One Day Before the Rainy Season             Ashad Ka Ek Din   \n",
       "tt0069049       The Other Side of the Wind  The Other Side of the Wind   \n",
       "tt0069204                  Sabse Bada Sukh             Sabse Bada Sukh   \n",
       "tt0100275         The Wandering Soap Opera       La Telenovela Errante   \n",
       "\n",
       "           start_year  runtime_minutes                genres  \n",
       "tconst                                                        \n",
       "tt0063540        2013            175.0    Action,Crime,Drama  \n",
       "tt0066787        2019            114.0       Biography,Drama  \n",
       "tt0069049        2018            122.0                 Drama  \n",
       "tt0069204        2018              NaN          Comedy,Drama  \n",
       "tt0100275        2017             80.0  Comedy,Drama,Fantasy  "
      ]
     },
     "execution_count": 8,
     "metadata": {},
     "output_type": "execute_result"
    }
   ],
   "source": [
    "imdb_title_basics_df = csv_files_dict['imdb_title_basics_gz']\n",
    "imdb_title_basics_df.head()"
   ]
  },
  {
   "cell_type": "markdown",
   "metadata": {},
   "source": [
    "#### Title Ratings Data"
   ]
  },
  {
   "cell_type": "code",
   "execution_count": 9,
   "metadata": {},
   "outputs": [
    {
     "data": {
      "text/html": [
       "<div>\n",
       "<style scoped>\n",
       "    .dataframe tbody tr th:only-of-type {\n",
       "        vertical-align: middle;\n",
       "    }\n",
       "\n",
       "    .dataframe tbody tr th {\n",
       "        vertical-align: top;\n",
       "    }\n",
       "\n",
       "    .dataframe thead th {\n",
       "        text-align: right;\n",
       "    }\n",
       "</style>\n",
       "<table border=\"1\" class=\"dataframe\">\n",
       "  <thead>\n",
       "    <tr style=\"text-align: right;\">\n",
       "      <th></th>\n",
       "      <th>averagerating</th>\n",
       "      <th>numvotes</th>\n",
       "    </tr>\n",
       "    <tr>\n",
       "      <th>tconst</th>\n",
       "      <th></th>\n",
       "      <th></th>\n",
       "    </tr>\n",
       "  </thead>\n",
       "  <tbody>\n",
       "    <tr>\n",
       "      <th>tt10356526</th>\n",
       "      <td>8.3</td>\n",
       "      <td>31</td>\n",
       "    </tr>\n",
       "    <tr>\n",
       "      <th>tt10384606</th>\n",
       "      <td>8.9</td>\n",
       "      <td>559</td>\n",
       "    </tr>\n",
       "    <tr>\n",
       "      <th>tt1042974</th>\n",
       "      <td>6.4</td>\n",
       "      <td>20</td>\n",
       "    </tr>\n",
       "    <tr>\n",
       "      <th>tt1043726</th>\n",
       "      <td>4.2</td>\n",
       "      <td>50352</td>\n",
       "    </tr>\n",
       "    <tr>\n",
       "      <th>tt1060240</th>\n",
       "      <td>6.5</td>\n",
       "      <td>21</td>\n",
       "    </tr>\n",
       "  </tbody>\n",
       "</table>\n",
       "</div>"
      ],
      "text/plain": [
       "            averagerating  numvotes\n",
       "tconst                             \n",
       "tt10356526            8.3        31\n",
       "tt10384606            8.9       559\n",
       "tt1042974             6.4        20\n",
       "tt1043726             4.2     50352\n",
       "tt1060240             6.5        21"
      ]
     },
     "execution_count": 9,
     "metadata": {},
     "output_type": "execute_result"
    }
   ],
   "source": [
    "imdb_title_ratings_df = csv_files_dict['imdb_title_ratings_gz']\n",
    "imdb_title_ratings_df.head()"
   ]
  },
  {
   "cell_type": "markdown",
   "metadata": {},
   "source": [
    "#### The Numbers Movie Budget Data"
   ]
  },
  {
   "cell_type": "code",
   "execution_count": 10,
   "metadata": {
    "scrolled": true
   },
   "outputs": [
    {
     "data": {
      "text/html": [
       "<div>\n",
       "<style scoped>\n",
       "    .dataframe tbody tr th:only-of-type {\n",
       "        vertical-align: middle;\n",
       "    }\n",
       "\n",
       "    .dataframe tbody tr th {\n",
       "        vertical-align: top;\n",
       "    }\n",
       "\n",
       "    .dataframe thead th {\n",
       "        text-align: right;\n",
       "    }\n",
       "</style>\n",
       "<table border=\"1\" class=\"dataframe\">\n",
       "  <thead>\n",
       "    <tr style=\"text-align: right;\">\n",
       "      <th></th>\n",
       "      <th>release_date</th>\n",
       "      <th>movie</th>\n",
       "      <th>production_budget</th>\n",
       "      <th>domestic_gross</th>\n",
       "      <th>worldwide_gross</th>\n",
       "    </tr>\n",
       "    <tr>\n",
       "      <th>id</th>\n",
       "      <th></th>\n",
       "      <th></th>\n",
       "      <th></th>\n",
       "      <th></th>\n",
       "      <th></th>\n",
       "    </tr>\n",
       "  </thead>\n",
       "  <tbody>\n",
       "    <tr>\n",
       "      <th>1</th>\n",
       "      <td>Dec 18, 2009</td>\n",
       "      <td>Avatar</td>\n",
       "      <td>$425,000,000</td>\n",
       "      <td>$760,507,625</td>\n",
       "      <td>$2,776,345,279</td>\n",
       "    </tr>\n",
       "    <tr>\n",
       "      <th>2</th>\n",
       "      <td>May 20, 2011</td>\n",
       "      <td>Pirates of the Caribbean: On Stranger Tides</td>\n",
       "      <td>$410,600,000</td>\n",
       "      <td>$241,063,875</td>\n",
       "      <td>$1,045,663,875</td>\n",
       "    </tr>\n",
       "    <tr>\n",
       "      <th>3</th>\n",
       "      <td>Jun 7, 2019</td>\n",
       "      <td>Dark Phoenix</td>\n",
       "      <td>$350,000,000</td>\n",
       "      <td>$42,762,350</td>\n",
       "      <td>$149,762,350</td>\n",
       "    </tr>\n",
       "    <tr>\n",
       "      <th>4</th>\n",
       "      <td>May 1, 2015</td>\n",
       "      <td>Avengers: Age of Ultron</td>\n",
       "      <td>$330,600,000</td>\n",
       "      <td>$459,005,868</td>\n",
       "      <td>$1,403,013,963</td>\n",
       "    </tr>\n",
       "    <tr>\n",
       "      <th>5</th>\n",
       "      <td>Dec 15, 2017</td>\n",
       "      <td>Star Wars Ep. VIII: The Last Jedi</td>\n",
       "      <td>$317,000,000</td>\n",
       "      <td>$620,181,382</td>\n",
       "      <td>$1,316,721,747</td>\n",
       "    </tr>\n",
       "  </tbody>\n",
       "</table>\n",
       "</div>"
      ],
      "text/plain": [
       "    release_date                                        movie  \\\n",
       "id                                                              \n",
       "1   Dec 18, 2009                                       Avatar   \n",
       "2   May 20, 2011  Pirates of the Caribbean: On Stranger Tides   \n",
       "3    Jun 7, 2019                                 Dark Phoenix   \n",
       "4    May 1, 2015                      Avengers: Age of Ultron   \n",
       "5   Dec 15, 2017            Star Wars Ep. VIII: The Last Jedi   \n",
       "\n",
       "   production_budget domestic_gross worldwide_gross  \n",
       "id                                                   \n",
       "1       $425,000,000   $760,507,625  $2,776,345,279  \n",
       "2       $410,600,000   $241,063,875  $1,045,663,875  \n",
       "3       $350,000,000    $42,762,350    $149,762,350  \n",
       "4       $330,600,000   $459,005,868  $1,403,013,963  \n",
       "5       $317,000,000   $620,181,382  $1,316,721,747  "
      ]
     },
     "execution_count": 10,
     "metadata": {},
     "output_type": "execute_result"
    }
   ],
   "source": [
    "tn_movie_budgets_df = csv_files_dict['tn_movie_budgets_gz']\n",
    "tn_movie_budgets_df.head()"
   ]
  },
  {
   "cell_type": "markdown",
   "metadata": {},
   "source": [
    "## Data Preparation"
   ]
  },
  {
   "cell_type": "markdown",
   "metadata": {},
   "source": [
    "![data analysis](images/data_analysis.png)"
   ]
  },
  {
   "cell_type": "markdown",
   "metadata": {},
   "source": [
    "### Data Cleaning"
   ]
  },
  {
   "cell_type": "markdown",
   "metadata": {},
   "source": [
    "For the Box Office Mojo Gross Data, Title Basics, Title Ratings, The Numbers Movie Budget, and IMDB Name Basics files, I dropped the unnecessary columns listed in each for simplicity and clarity purposes."
   ]
  },
  {
   "cell_type": "markdown",
   "metadata": {},
   "source": [
    "#### Box Office Mojo Gross Data"
   ]
  },
  {
   "cell_type": "code",
   "execution_count": 11,
   "metadata": {},
   "outputs": [],
   "source": [
    "# Dropping Columns\n",
    "bom_movie_gross_df.drop(columns = ['domestic_gross', 'foreign_gross'], inplace=True)"
   ]
  },
  {
   "cell_type": "code",
   "execution_count": 12,
   "metadata": {
    "scrolled": true
   },
   "outputs": [
    {
     "data": {
      "text/html": [
       "<div>\n",
       "<style scoped>\n",
       "    .dataframe tbody tr th:only-of-type {\n",
       "        vertical-align: middle;\n",
       "    }\n",
       "\n",
       "    .dataframe tbody tr th {\n",
       "        vertical-align: top;\n",
       "    }\n",
       "\n",
       "    .dataframe thead th {\n",
       "        text-align: right;\n",
       "    }\n",
       "</style>\n",
       "<table border=\"1\" class=\"dataframe\">\n",
       "  <thead>\n",
       "    <tr style=\"text-align: right;\">\n",
       "      <th></th>\n",
       "      <th>studio</th>\n",
       "      <th>year</th>\n",
       "    </tr>\n",
       "    <tr>\n",
       "      <th>title</th>\n",
       "      <th></th>\n",
       "      <th></th>\n",
       "    </tr>\n",
       "  </thead>\n",
       "  <tbody>\n",
       "    <tr>\n",
       "      <th>Toy Story 3</th>\n",
       "      <td>BV</td>\n",
       "      <td>2010</td>\n",
       "    </tr>\n",
       "    <tr>\n",
       "      <th>Alice in Wonderland (2010)</th>\n",
       "      <td>BV</td>\n",
       "      <td>2010</td>\n",
       "    </tr>\n",
       "    <tr>\n",
       "      <th>Harry Potter and the Deathly Hallows Part 1</th>\n",
       "      <td>WB</td>\n",
       "      <td>2010</td>\n",
       "    </tr>\n",
       "    <tr>\n",
       "      <th>Inception</th>\n",
       "      <td>WB</td>\n",
       "      <td>2010</td>\n",
       "    </tr>\n",
       "    <tr>\n",
       "      <th>Shrek Forever After</th>\n",
       "      <td>P/DW</td>\n",
       "      <td>2010</td>\n",
       "    </tr>\n",
       "  </tbody>\n",
       "</table>\n",
       "</div>"
      ],
      "text/plain": [
       "                                            studio  year\n",
       "title                                                   \n",
       "Toy Story 3                                     BV  2010\n",
       "Alice in Wonderland (2010)                      BV  2010\n",
       "Harry Potter and the Deathly Hallows Part 1     WB  2010\n",
       "Inception                                       WB  2010\n",
       "Shrek Forever After                           P/DW  2010"
      ]
     },
     "execution_count": 12,
     "metadata": {},
     "output_type": "execute_result"
    }
   ],
   "source": [
    "bom_movie_gross_df.head()"
   ]
  },
  {
   "cell_type": "markdown",
   "metadata": {},
   "source": [
    "#### IMDB Title Basics Data"
   ]
  },
  {
   "cell_type": "code",
   "execution_count": 13,
   "metadata": {},
   "outputs": [],
   "source": [
    "# Simplifying Column Names & Dropping Columns\n",
    "imdb_title_basics_df.columns = imdb_title_basics_df.columns.str.lower().str.replace(' ', '_')\n",
    "imdb_title_basics_df.drop(columns = ['original_title'], inplace=True)"
   ]
  },
  {
   "cell_type": "code",
   "execution_count": 14,
   "metadata": {},
   "outputs": [
    {
     "data": {
      "text/html": [
       "<div>\n",
       "<style scoped>\n",
       "    .dataframe tbody tr th:only-of-type {\n",
       "        vertical-align: middle;\n",
       "    }\n",
       "\n",
       "    .dataframe tbody tr th {\n",
       "        vertical-align: top;\n",
       "    }\n",
       "\n",
       "    .dataframe thead th {\n",
       "        text-align: right;\n",
       "    }\n",
       "</style>\n",
       "<table border=\"1\" class=\"dataframe\">\n",
       "  <thead>\n",
       "    <tr style=\"text-align: right;\">\n",
       "      <th></th>\n",
       "      <th>primary_title</th>\n",
       "      <th>start_year</th>\n",
       "      <th>runtime_minutes</th>\n",
       "      <th>genres</th>\n",
       "    </tr>\n",
       "    <tr>\n",
       "      <th>tconst</th>\n",
       "      <th></th>\n",
       "      <th></th>\n",
       "      <th></th>\n",
       "      <th></th>\n",
       "    </tr>\n",
       "  </thead>\n",
       "  <tbody>\n",
       "    <tr>\n",
       "      <th>tt0063540</th>\n",
       "      <td>Sunghursh</td>\n",
       "      <td>2013</td>\n",
       "      <td>175.0</td>\n",
       "      <td>Action,Crime,Drama</td>\n",
       "    </tr>\n",
       "    <tr>\n",
       "      <th>tt0066787</th>\n",
       "      <td>One Day Before the Rainy Season</td>\n",
       "      <td>2019</td>\n",
       "      <td>114.0</td>\n",
       "      <td>Biography,Drama</td>\n",
       "    </tr>\n",
       "    <tr>\n",
       "      <th>tt0069049</th>\n",
       "      <td>The Other Side of the Wind</td>\n",
       "      <td>2018</td>\n",
       "      <td>122.0</td>\n",
       "      <td>Drama</td>\n",
       "    </tr>\n",
       "    <tr>\n",
       "      <th>tt0069204</th>\n",
       "      <td>Sabse Bada Sukh</td>\n",
       "      <td>2018</td>\n",
       "      <td>NaN</td>\n",
       "      <td>Comedy,Drama</td>\n",
       "    </tr>\n",
       "    <tr>\n",
       "      <th>tt0100275</th>\n",
       "      <td>The Wandering Soap Opera</td>\n",
       "      <td>2017</td>\n",
       "      <td>80.0</td>\n",
       "      <td>Comedy,Drama,Fantasy</td>\n",
       "    </tr>\n",
       "  </tbody>\n",
       "</table>\n",
       "</div>"
      ],
      "text/plain": [
       "                             primary_title  start_year  runtime_minutes  \\\n",
       "tconst                                                                    \n",
       "tt0063540                        Sunghursh        2013            175.0   \n",
       "tt0066787  One Day Before the Rainy Season        2019            114.0   \n",
       "tt0069049       The Other Side of the Wind        2018            122.0   \n",
       "tt0069204                  Sabse Bada Sukh        2018              NaN   \n",
       "tt0100275         The Wandering Soap Opera        2017             80.0   \n",
       "\n",
       "                         genres  \n",
       "tconst                           \n",
       "tt0063540    Action,Crime,Drama  \n",
       "tt0066787       Biography,Drama  \n",
       "tt0069049                 Drama  \n",
       "tt0069204          Comedy,Drama  \n",
       "tt0100275  Comedy,Drama,Fantasy  "
      ]
     },
     "execution_count": 14,
     "metadata": {},
     "output_type": "execute_result"
    }
   ],
   "source": [
    "imdb_title_basics_df.head()"
   ]
  },
  {
   "cell_type": "markdown",
   "metadata": {},
   "source": [
    "#### IMDB Title Ratings Data"
   ]
  },
  {
   "cell_type": "code",
   "execution_count": 15,
   "metadata": {},
   "outputs": [],
   "source": [
    "# Dropping Columns\n",
    "imdb_title_ratings_df.drop(columns = ['numvotes'], inplace=True)"
   ]
  },
  {
   "cell_type": "code",
   "execution_count": 16,
   "metadata": {
    "scrolled": true
   },
   "outputs": [
    {
     "data": {
      "text/html": [
       "<div>\n",
       "<style scoped>\n",
       "    .dataframe tbody tr th:only-of-type {\n",
       "        vertical-align: middle;\n",
       "    }\n",
       "\n",
       "    .dataframe tbody tr th {\n",
       "        vertical-align: top;\n",
       "    }\n",
       "\n",
       "    .dataframe thead th {\n",
       "        text-align: right;\n",
       "    }\n",
       "</style>\n",
       "<table border=\"1\" class=\"dataframe\">\n",
       "  <thead>\n",
       "    <tr style=\"text-align: right;\">\n",
       "      <th></th>\n",
       "      <th>averagerating</th>\n",
       "    </tr>\n",
       "    <tr>\n",
       "      <th>tconst</th>\n",
       "      <th></th>\n",
       "    </tr>\n",
       "  </thead>\n",
       "  <tbody>\n",
       "    <tr>\n",
       "      <th>tt10356526</th>\n",
       "      <td>8.3</td>\n",
       "    </tr>\n",
       "    <tr>\n",
       "      <th>tt10384606</th>\n",
       "      <td>8.9</td>\n",
       "    </tr>\n",
       "    <tr>\n",
       "      <th>tt1042974</th>\n",
       "      <td>6.4</td>\n",
       "    </tr>\n",
       "    <tr>\n",
       "      <th>tt1043726</th>\n",
       "      <td>4.2</td>\n",
       "    </tr>\n",
       "    <tr>\n",
       "      <th>tt1060240</th>\n",
       "      <td>6.5</td>\n",
       "    </tr>\n",
       "  </tbody>\n",
       "</table>\n",
       "</div>"
      ],
      "text/plain": [
       "            averagerating\n",
       "tconst                   \n",
       "tt10356526            8.3\n",
       "tt10384606            8.9\n",
       "tt1042974             6.4\n",
       "tt1043726             4.2\n",
       "tt1060240             6.5"
      ]
     },
     "execution_count": 16,
     "metadata": {},
     "output_type": "execute_result"
    }
   ],
   "source": [
    "imdb_title_ratings_df.head()"
   ]
  },
  {
   "cell_type": "markdown",
   "metadata": {},
   "source": [
    "#### The Numbers Movie Budgets Data"
   ]
  },
  {
   "cell_type": "code",
   "execution_count": 17,
   "metadata": {},
   "outputs": [],
   "source": [
    "# Simplifying Column Names & Dropping Columns\n",
    "tn_movie_budgets_df.columns = tn_movie_budgets_df.columns.str.lower().str.replace(' ', '_')\n",
    "tn_movie_budgets_df.drop(columns = ['release_date', 'domestic_gross'], inplace=True)"
   ]
  },
  {
   "cell_type": "code",
   "execution_count": 18,
   "metadata": {
    "scrolled": false
   },
   "outputs": [
    {
     "data": {
      "text/html": [
       "<div>\n",
       "<style scoped>\n",
       "    .dataframe tbody tr th:only-of-type {\n",
       "        vertical-align: middle;\n",
       "    }\n",
       "\n",
       "    .dataframe tbody tr th {\n",
       "        vertical-align: top;\n",
       "    }\n",
       "\n",
       "    .dataframe thead th {\n",
       "        text-align: right;\n",
       "    }\n",
       "</style>\n",
       "<table border=\"1\" class=\"dataframe\">\n",
       "  <thead>\n",
       "    <tr style=\"text-align: right;\">\n",
       "      <th></th>\n",
       "      <th>movie</th>\n",
       "      <th>production_budget</th>\n",
       "      <th>worldwide_gross</th>\n",
       "    </tr>\n",
       "    <tr>\n",
       "      <th>id</th>\n",
       "      <th></th>\n",
       "      <th></th>\n",
       "      <th></th>\n",
       "    </tr>\n",
       "  </thead>\n",
       "  <tbody>\n",
       "    <tr>\n",
       "      <th>1</th>\n",
       "      <td>Avatar</td>\n",
       "      <td>$425,000,000</td>\n",
       "      <td>$2,776,345,279</td>\n",
       "    </tr>\n",
       "    <tr>\n",
       "      <th>2</th>\n",
       "      <td>Pirates of the Caribbean: On Stranger Tides</td>\n",
       "      <td>$410,600,000</td>\n",
       "      <td>$1,045,663,875</td>\n",
       "    </tr>\n",
       "    <tr>\n",
       "      <th>3</th>\n",
       "      <td>Dark Phoenix</td>\n",
       "      <td>$350,000,000</td>\n",
       "      <td>$149,762,350</td>\n",
       "    </tr>\n",
       "    <tr>\n",
       "      <th>4</th>\n",
       "      <td>Avengers: Age of Ultron</td>\n",
       "      <td>$330,600,000</td>\n",
       "      <td>$1,403,013,963</td>\n",
       "    </tr>\n",
       "    <tr>\n",
       "      <th>5</th>\n",
       "      <td>Star Wars Ep. VIII: The Last Jedi</td>\n",
       "      <td>$317,000,000</td>\n",
       "      <td>$1,316,721,747</td>\n",
       "    </tr>\n",
       "  </tbody>\n",
       "</table>\n",
       "</div>"
      ],
      "text/plain": [
       "                                          movie production_budget  \\\n",
       "id                                                                  \n",
       "1                                        Avatar      $425,000,000   \n",
       "2   Pirates of the Caribbean: On Stranger Tides      $410,600,000   \n",
       "3                                  Dark Phoenix      $350,000,000   \n",
       "4                       Avengers: Age of Ultron      $330,600,000   \n",
       "5             Star Wars Ep. VIII: The Last Jedi      $317,000,000   \n",
       "\n",
       "   worldwide_gross  \n",
       "id                  \n",
       "1   $2,776,345,279  \n",
       "2   $1,045,663,875  \n",
       "3     $149,762,350  \n",
       "4   $1,403,013,963  \n",
       "5   $1,316,721,747  "
      ]
     },
     "execution_count": 18,
     "metadata": {},
     "output_type": "execute_result"
    }
   ],
   "source": [
    "tn_movie_budgets_df.head()"
   ]
  },
  {
   "cell_type": "markdown",
   "metadata": {},
   "source": [
    "### Merging IMDB Title Information Data\n",
    "I chose to merge the IMDB Title Data together for concision purposes for easy use later on."
   ]
  },
  {
   "cell_type": "code",
   "execution_count": 19,
   "metadata": {},
   "outputs": [
    {
     "data": {
      "text/html": [
       "<div>\n",
       "<style scoped>\n",
       "    .dataframe tbody tr th:only-of-type {\n",
       "        vertical-align: middle;\n",
       "    }\n",
       "\n",
       "    .dataframe tbody tr th {\n",
       "        vertical-align: top;\n",
       "    }\n",
       "\n",
       "    .dataframe thead th {\n",
       "        text-align: right;\n",
       "    }\n",
       "</style>\n",
       "<table border=\"1\" class=\"dataframe\">\n",
       "  <thead>\n",
       "    <tr style=\"text-align: right;\">\n",
       "      <th></th>\n",
       "      <th>primary_title</th>\n",
       "      <th>start_year</th>\n",
       "      <th>runtime_minutes</th>\n",
       "      <th>genres</th>\n",
       "      <th>averagerating</th>\n",
       "    </tr>\n",
       "    <tr>\n",
       "      <th>tconst</th>\n",
       "      <th></th>\n",
       "      <th></th>\n",
       "      <th></th>\n",
       "      <th></th>\n",
       "      <th></th>\n",
       "    </tr>\n",
       "  </thead>\n",
       "  <tbody>\n",
       "    <tr>\n",
       "      <th>tt0063540</th>\n",
       "      <td>Sunghursh</td>\n",
       "      <td>2013</td>\n",
       "      <td>175.0</td>\n",
       "      <td>Action,Crime,Drama</td>\n",
       "      <td>7.0</td>\n",
       "    </tr>\n",
       "    <tr>\n",
       "      <th>tt0066787</th>\n",
       "      <td>One Day Before the Rainy Season</td>\n",
       "      <td>2019</td>\n",
       "      <td>114.0</td>\n",
       "      <td>Biography,Drama</td>\n",
       "      <td>7.2</td>\n",
       "    </tr>\n",
       "    <tr>\n",
       "      <th>tt0069049</th>\n",
       "      <td>The Other Side of the Wind</td>\n",
       "      <td>2018</td>\n",
       "      <td>122.0</td>\n",
       "      <td>Drama</td>\n",
       "      <td>6.9</td>\n",
       "    </tr>\n",
       "    <tr>\n",
       "      <th>tt0069204</th>\n",
       "      <td>Sabse Bada Sukh</td>\n",
       "      <td>2018</td>\n",
       "      <td>NaN</td>\n",
       "      <td>Comedy,Drama</td>\n",
       "      <td>6.1</td>\n",
       "    </tr>\n",
       "    <tr>\n",
       "      <th>tt0100275</th>\n",
       "      <td>The Wandering Soap Opera</td>\n",
       "      <td>2017</td>\n",
       "      <td>80.0</td>\n",
       "      <td>Comedy,Drama,Fantasy</td>\n",
       "      <td>6.5</td>\n",
       "    </tr>\n",
       "  </tbody>\n",
       "</table>\n",
       "</div>"
      ],
      "text/plain": [
       "                             primary_title  start_year  runtime_minutes  \\\n",
       "tconst                                                                    \n",
       "tt0063540                        Sunghursh        2013            175.0   \n",
       "tt0066787  One Day Before the Rainy Season        2019            114.0   \n",
       "tt0069049       The Other Side of the Wind        2018            122.0   \n",
       "tt0069204                  Sabse Bada Sukh        2018              NaN   \n",
       "tt0100275         The Wandering Soap Opera        2017             80.0   \n",
       "\n",
       "                         genres  averagerating  \n",
       "tconst                                          \n",
       "tt0063540    Action,Crime,Drama            7.0  \n",
       "tt0066787       Biography,Drama            7.2  \n",
       "tt0069049                 Drama            6.9  \n",
       "tt0069204          Comedy,Drama            6.1  \n",
       "tt0100275  Comedy,Drama,Fantasy            6.5  "
      ]
     },
     "execution_count": 19,
     "metadata": {},
     "output_type": "execute_result"
    }
   ],
   "source": [
    "# Created a new variable called title_information_df to store the merge\n",
    "title_information_df = pd.merge(imdb_title_basics_df,\n",
    "                               imdb_title_ratings_df,\n",
    "                               on=['tconst'],\n",
    "                               how='left')\n",
    "title_information_df.head()"
   ]
  },
  {
   "cell_type": "markdown",
   "metadata": {},
   "source": [
    "### Filtering Films By Descending Worldwide Gross\n",
    "Sorted The Numbers Movie Budget file by worldwide gross. I then sorted worldwide gross in descending order, which altered the data frame to highlight the top worldwide grossing films."
   ]
  },
  {
   "cell_type": "code",
   "execution_count": 20,
   "metadata": {},
   "outputs": [
    {
     "data": {
      "text/html": [
       "<div>\n",
       "<style scoped>\n",
       "    .dataframe tbody tr th:only-of-type {\n",
       "        vertical-align: middle;\n",
       "    }\n",
       "\n",
       "    .dataframe tbody tr th {\n",
       "        vertical-align: top;\n",
       "    }\n",
       "\n",
       "    .dataframe thead th {\n",
       "        text-align: right;\n",
       "    }\n",
       "</style>\n",
       "<table border=\"1\" class=\"dataframe\">\n",
       "  <thead>\n",
       "    <tr style=\"text-align: right;\">\n",
       "      <th></th>\n",
       "      <th>movie</th>\n",
       "      <th>production_budget</th>\n",
       "      <th>worldwide_gross</th>\n",
       "    </tr>\n",
       "    <tr>\n",
       "      <th>id</th>\n",
       "      <th></th>\n",
       "      <th></th>\n",
       "      <th></th>\n",
       "    </tr>\n",
       "  </thead>\n",
       "  <tbody>\n",
       "    <tr>\n",
       "      <th>38</th>\n",
       "      <td>Fifty Dead Men Walking</td>\n",
       "      <td>$10,000,000</td>\n",
       "      <td>$997,921</td>\n",
       "    </tr>\n",
       "    <tr>\n",
       "      <th>33</th>\n",
       "      <td>Duma</td>\n",
       "      <td>$12,000,000</td>\n",
       "      <td>$994,790</td>\n",
       "    </tr>\n",
       "    <tr>\n",
       "      <th>63</th>\n",
       "      <td>Insidious</td>\n",
       "      <td>$1,500,000</td>\n",
       "      <td>$99,870,886</td>\n",
       "    </tr>\n",
       "    <tr>\n",
       "      <th>84</th>\n",
       "      <td>Hellboy</td>\n",
       "      <td>$60,000,000</td>\n",
       "      <td>$99,823,958</td>\n",
       "    </tr>\n",
       "    <tr>\n",
       "      <th>14</th>\n",
       "      <td>Mad Max</td>\n",
       "      <td>$200,000</td>\n",
       "      <td>$99,750,000</td>\n",
       "    </tr>\n",
       "    <tr>\n",
       "      <th>79</th>\n",
       "      <td>Alpha</td>\n",
       "      <td>$51,000,000</td>\n",
       "      <td>$99,624,873</td>\n",
       "    </tr>\n",
       "    <tr>\n",
       "      <th>83</th>\n",
       "      <td>Street Fighter</td>\n",
       "      <td>$35,000,000</td>\n",
       "      <td>$99,423,000</td>\n",
       "    </tr>\n",
       "    <tr>\n",
       "      <th>93</th>\n",
       "      <td>Nacho Libre</td>\n",
       "      <td>$32,000,000</td>\n",
       "      <td>$99,296,462</td>\n",
       "    </tr>\n",
       "    <tr>\n",
       "      <th>74</th>\n",
       "      <td>Desert Blue</td>\n",
       "      <td>$5,000,000</td>\n",
       "      <td>$99,147</td>\n",
       "    </tr>\n",
       "    <tr>\n",
       "      <th>44</th>\n",
       "      <td>Hitman</td>\n",
       "      <td>$24,000,000</td>\n",
       "      <td>$99,135,571</td>\n",
       "    </tr>\n",
       "  </tbody>\n",
       "</table>\n",
       "</div>"
      ],
      "text/plain": [
       "                     movie production_budget worldwide_gross\n",
       "id                                                          \n",
       "38  Fifty Dead Men Walking       $10,000,000        $997,921\n",
       "33                    Duma       $12,000,000        $994,790\n",
       "63               Insidious        $1,500,000     $99,870,886\n",
       "84                 Hellboy       $60,000,000     $99,823,958\n",
       "14                 Mad Max          $200,000     $99,750,000\n",
       "79                   Alpha       $51,000,000     $99,624,873\n",
       "83          Street Fighter       $35,000,000     $99,423,000\n",
       "93             Nacho Libre       $32,000,000     $99,296,462\n",
       "74             Desert Blue        $5,000,000         $99,147\n",
       "44                  Hitman       $24,000,000     $99,135,571"
      ]
     },
     "execution_count": 20,
     "metadata": {},
     "output_type": "execute_result"
    }
   ],
   "source": [
    "tn_movie_budgets_df = tn_movie_budgets_df.sort_values(by='worldwide_gross', ascending=False)\n",
    "tn_movie_budgets_df.head(10)"
   ]
  },
  {
   "cell_type": "code",
   "execution_count": 21,
   "metadata": {},
   "outputs": [
    {
     "data": {
      "text/plain": [
       "(5782, 3)"
      ]
     },
     "execution_count": 21,
     "metadata": {},
     "output_type": "execute_result"
    }
   ],
   "source": [
    "# Calculate the shape of tn_movie_budgets_df\n",
    "tn_movie_budgets_df.shape"
   ]
  },
  {
   "cell_type": "code",
   "execution_count": 22,
   "metadata": {},
   "outputs": [
    {
     "data": {
      "text/plain": [
       "(146144, 5)"
      ]
     },
     "execution_count": 22,
     "metadata": {},
     "output_type": "execute_result"
    }
   ],
   "source": [
    "# Calculate the shape of title_information_df\n",
    "title_information_df.shape"
   ]
  },
  {
   "cell_type": "markdown",
   "metadata": {},
   "source": [
    "### Finding The Top Grossing Genres\n",
    "I created two new variables called genres_worldwide_gross and genres_worldwide_gross_df to ultimately compute the top grossing genres. I plan to use the results as one of my recommendations to Microsoft."
   ]
  },
  {
   "cell_type": "code",
   "execution_count": 23,
   "metadata": {},
   "outputs": [
    {
     "data": {
      "text/html": [
       "<div>\n",
       "<style scoped>\n",
       "    .dataframe tbody tr th:only-of-type {\n",
       "        vertical-align: middle;\n",
       "    }\n",
       "\n",
       "    .dataframe tbody tr th {\n",
       "        vertical-align: top;\n",
       "    }\n",
       "\n",
       "    .dataframe thead th {\n",
       "        text-align: right;\n",
       "    }\n",
       "</style>\n",
       "<table border=\"1\" class=\"dataframe\">\n",
       "  <thead>\n",
       "    <tr style=\"text-align: right;\">\n",
       "      <th></th>\n",
       "      <th>primary_title</th>\n",
       "      <th>start_year</th>\n",
       "      <th>runtime_minutes</th>\n",
       "      <th>genres</th>\n",
       "      <th>averagerating</th>\n",
       "      <th>movie</th>\n",
       "      <th>production_budget</th>\n",
       "      <th>worldwide_gross</th>\n",
       "    </tr>\n",
       "  </thead>\n",
       "  <tbody>\n",
       "    <tr>\n",
       "      <th>0</th>\n",
       "      <td>Foodfight!</td>\n",
       "      <td>2012</td>\n",
       "      <td>91.0</td>\n",
       "      <td>Action,Animation,Comedy</td>\n",
       "      <td>1.9</td>\n",
       "      <td>Foodfight!</td>\n",
       "      <td>$45,000,000</td>\n",
       "      <td>$73,706</td>\n",
       "    </tr>\n",
       "    <tr>\n",
       "      <th>1</th>\n",
       "      <td>Mortal Kombat</td>\n",
       "      <td>2021</td>\n",
       "      <td>NaN</td>\n",
       "      <td>Action,Adventure,Fantasy</td>\n",
       "      <td>NaN</td>\n",
       "      <td>Mortal Kombat</td>\n",
       "      <td>$20,000,000</td>\n",
       "      <td>$122,133,227</td>\n",
       "    </tr>\n",
       "    <tr>\n",
       "      <th>2</th>\n",
       "      <td>The Overnight</td>\n",
       "      <td>2010</td>\n",
       "      <td>88.0</td>\n",
       "      <td>NaN</td>\n",
       "      <td>7.5</td>\n",
       "      <td>The Overnight</td>\n",
       "      <td>$200,000</td>\n",
       "      <td>$1,165,996</td>\n",
       "    </tr>\n",
       "    <tr>\n",
       "      <th>3</th>\n",
       "      <td>The Overnight</td>\n",
       "      <td>2015</td>\n",
       "      <td>79.0</td>\n",
       "      <td>Comedy,Mystery</td>\n",
       "      <td>6.1</td>\n",
       "      <td>The Overnight</td>\n",
       "      <td>$200,000</td>\n",
       "      <td>$1,165,996</td>\n",
       "    </tr>\n",
       "    <tr>\n",
       "      <th>4</th>\n",
       "      <td>On the Road</td>\n",
       "      <td>2012</td>\n",
       "      <td>124.0</td>\n",
       "      <td>Adventure,Drama,Romance</td>\n",
       "      <td>6.1</td>\n",
       "      <td>On the Road</td>\n",
       "      <td>$25,000,000</td>\n",
       "      <td>$9,313,302</td>\n",
       "    </tr>\n",
       "  </tbody>\n",
       "</table>\n",
       "</div>"
      ],
      "text/plain": [
       "   primary_title  start_year  runtime_minutes                    genres  \\\n",
       "0     Foodfight!        2012             91.0   Action,Animation,Comedy   \n",
       "1  Mortal Kombat        2021              NaN  Action,Adventure,Fantasy   \n",
       "2  The Overnight        2010             88.0                       NaN   \n",
       "3  The Overnight        2015             79.0            Comedy,Mystery   \n",
       "4    On the Road        2012            124.0   Adventure,Drama,Romance   \n",
       "\n",
       "   averagerating          movie production_budget worldwide_gross  \n",
       "0            1.9     Foodfight!       $45,000,000         $73,706  \n",
       "1            NaN  Mortal Kombat       $20,000,000    $122,133,227  \n",
       "2            7.5  The Overnight          $200,000      $1,165,996  \n",
       "3            6.1  The Overnight          $200,000      $1,165,996  \n",
       "4            6.1    On the Road       $25,000,000      $9,313,302  "
      ]
     },
     "execution_count": 23,
     "metadata": {},
     "output_type": "execute_result"
    }
   ],
   "source": [
    "# Creates a new variable called genres_worldwide_gross to store the merge between title_information_df and tn_movie_budgets_df\n",
    "genres_worldwide_gross = pd.merge(title_information_df,\n",
    "         tn_movie_budgets_df,\n",
    "         left_on=['primary_title'],\n",
    "         right_on=['movie'],\n",
    "         how='inner')\n",
    "genres_worldwide_gross.head()\n"
   ]
  },
  {
   "cell_type": "code",
   "execution_count": 24,
   "metadata": {},
   "outputs": [],
   "source": [
    "# Gets rid of the '$' and ',' characters\n",
    "genres_worldwide_gross['worldwide_gross'] = genres_worldwide_gross['worldwide_gross'].apply(lambda x: x.replace('$', '').replace(',', ''))"
   ]
  },
  {
   "cell_type": "code",
   "execution_count": 25,
   "metadata": {},
   "outputs": [],
   "source": [
    "# Converts worldwide_gross to an int so I can calculate it's mean\n",
    "genres_worldwide_gross['worldwide_gross'] = genres_worldwide_gross['worldwide_gross'].astype(int)"
   ]
  },
  {
   "cell_type": "code",
   "execution_count": 26,
   "metadata": {},
   "outputs": [],
   "source": [
    "# Gets rid of the '$' and ',' characters while converting production_budget to an int\n",
    "genres_worldwide_gross['production_budget'] = genres_worldwide_gross['production_budget'].apply(lambda x: x.replace('$', '').replace(',', '')).astype(int)"
   ]
  },
  {
   "cell_type": "code",
   "execution_count": 27,
   "metadata": {},
   "outputs": [
    {
     "data": {
      "text/html": [
       "<div>\n",
       "<style scoped>\n",
       "    .dataframe tbody tr th:only-of-type {\n",
       "        vertical-align: middle;\n",
       "    }\n",
       "\n",
       "    .dataframe tbody tr th {\n",
       "        vertical-align: top;\n",
       "    }\n",
       "\n",
       "    .dataframe thead th {\n",
       "        text-align: right;\n",
       "    }\n",
       "</style>\n",
       "<table border=\"1\" class=\"dataframe\">\n",
       "  <thead>\n",
       "    <tr style=\"text-align: right;\">\n",
       "      <th></th>\n",
       "      <th>primary_title</th>\n",
       "      <th>start_year</th>\n",
       "      <th>runtime_minutes</th>\n",
       "      <th>genres</th>\n",
       "      <th>averagerating</th>\n",
       "      <th>movie</th>\n",
       "      <th>production_budget</th>\n",
       "      <th>worldwide_gross</th>\n",
       "    </tr>\n",
       "  </thead>\n",
       "  <tbody>\n",
       "    <tr>\n",
       "      <th>0</th>\n",
       "      <td>Foodfight!</td>\n",
       "      <td>2012</td>\n",
       "      <td>91.0</td>\n",
       "      <td>Action,Animation,Comedy</td>\n",
       "      <td>1.9</td>\n",
       "      <td>Foodfight!</td>\n",
       "      <td>45000000</td>\n",
       "      <td>73706</td>\n",
       "    </tr>\n",
       "    <tr>\n",
       "      <th>1</th>\n",
       "      <td>Mortal Kombat</td>\n",
       "      <td>2021</td>\n",
       "      <td>NaN</td>\n",
       "      <td>Action,Adventure,Fantasy</td>\n",
       "      <td>NaN</td>\n",
       "      <td>Mortal Kombat</td>\n",
       "      <td>20000000</td>\n",
       "      <td>122133227</td>\n",
       "    </tr>\n",
       "    <tr>\n",
       "      <th>2</th>\n",
       "      <td>The Overnight</td>\n",
       "      <td>2010</td>\n",
       "      <td>88.0</td>\n",
       "      <td>NaN</td>\n",
       "      <td>7.5</td>\n",
       "      <td>The Overnight</td>\n",
       "      <td>200000</td>\n",
       "      <td>1165996</td>\n",
       "    </tr>\n",
       "    <tr>\n",
       "      <th>3</th>\n",
       "      <td>The Overnight</td>\n",
       "      <td>2015</td>\n",
       "      <td>79.0</td>\n",
       "      <td>Comedy,Mystery</td>\n",
       "      <td>6.1</td>\n",
       "      <td>The Overnight</td>\n",
       "      <td>200000</td>\n",
       "      <td>1165996</td>\n",
       "    </tr>\n",
       "    <tr>\n",
       "      <th>4</th>\n",
       "      <td>On the Road</td>\n",
       "      <td>2012</td>\n",
       "      <td>124.0</td>\n",
       "      <td>Adventure,Drama,Romance</td>\n",
       "      <td>6.1</td>\n",
       "      <td>On the Road</td>\n",
       "      <td>25000000</td>\n",
       "      <td>9313302</td>\n",
       "    </tr>\n",
       "    <tr>\n",
       "      <th>...</th>\n",
       "      <td>...</td>\n",
       "      <td>...</td>\n",
       "      <td>...</td>\n",
       "      <td>...</td>\n",
       "      <td>...</td>\n",
       "      <td>...</td>\n",
       "      <td>...</td>\n",
       "      <td>...</td>\n",
       "    </tr>\n",
       "    <tr>\n",
       "      <th>3810</th>\n",
       "      <td>Fuel</td>\n",
       "      <td>2018</td>\n",
       "      <td>NaN</td>\n",
       "      <td>Documentary,Sport</td>\n",
       "      <td>NaN</td>\n",
       "      <td>Fuel</td>\n",
       "      <td>2500000</td>\n",
       "      <td>174255</td>\n",
       "    </tr>\n",
       "    <tr>\n",
       "      <th>3811</th>\n",
       "      <td>Diner</td>\n",
       "      <td>2019</td>\n",
       "      <td>NaN</td>\n",
       "      <td>Crime</td>\n",
       "      <td>NaN</td>\n",
       "      <td>Diner</td>\n",
       "      <td>5000000</td>\n",
       "      <td>12592907</td>\n",
       "    </tr>\n",
       "    <tr>\n",
       "      <th>3812</th>\n",
       "      <td>Traitor</td>\n",
       "      <td>2015</td>\n",
       "      <td>110.0</td>\n",
       "      <td>Action,Drama,Romance</td>\n",
       "      <td>NaN</td>\n",
       "      <td>Traitor</td>\n",
       "      <td>22000000</td>\n",
       "      <td>27882226</td>\n",
       "    </tr>\n",
       "    <tr>\n",
       "      <th>3813</th>\n",
       "      <td>Ray</td>\n",
       "      <td>2018</td>\n",
       "      <td>111.0</td>\n",
       "      <td>Crime</td>\n",
       "      <td>NaN</td>\n",
       "      <td>Ray</td>\n",
       "      <td>40000000</td>\n",
       "      <td>124823094</td>\n",
       "    </tr>\n",
       "    <tr>\n",
       "      <th>3814</th>\n",
       "      <td>Sublime</td>\n",
       "      <td>2019</td>\n",
       "      <td>NaN</td>\n",
       "      <td>Documentary</td>\n",
       "      <td>NaN</td>\n",
       "      <td>Sublime</td>\n",
       "      <td>1800000</td>\n",
       "      <td>0</td>\n",
       "    </tr>\n",
       "  </tbody>\n",
       "</table>\n",
       "<p>3815 rows × 8 columns</p>\n",
       "</div>"
      ],
      "text/plain": [
       "      primary_title  start_year  runtime_minutes                    genres  \\\n",
       "0        Foodfight!        2012             91.0   Action,Animation,Comedy   \n",
       "1     Mortal Kombat        2021              NaN  Action,Adventure,Fantasy   \n",
       "2     The Overnight        2010             88.0                       NaN   \n",
       "3     The Overnight        2015             79.0            Comedy,Mystery   \n",
       "4       On the Road        2012            124.0   Adventure,Drama,Romance   \n",
       "...             ...         ...              ...                       ...   \n",
       "3810           Fuel        2018              NaN         Documentary,Sport   \n",
       "3811          Diner        2019              NaN                     Crime   \n",
       "3812        Traitor        2015            110.0      Action,Drama,Romance   \n",
       "3813            Ray        2018            111.0                     Crime   \n",
       "3814        Sublime        2019              NaN               Documentary   \n",
       "\n",
       "      averagerating          movie  production_budget  worldwide_gross  \n",
       "0               1.9     Foodfight!           45000000            73706  \n",
       "1               NaN  Mortal Kombat           20000000        122133227  \n",
       "2               7.5  The Overnight             200000          1165996  \n",
       "3               6.1  The Overnight             200000          1165996  \n",
       "4               6.1    On the Road           25000000          9313302  \n",
       "...             ...            ...                ...              ...  \n",
       "3810            NaN           Fuel            2500000           174255  \n",
       "3811            NaN          Diner            5000000         12592907  \n",
       "3812            NaN        Traitor           22000000         27882226  \n",
       "3813            NaN            Ray           40000000        124823094  \n",
       "3814            NaN        Sublime            1800000                0  \n",
       "\n",
       "[3815 rows x 8 columns]"
      ]
     },
     "execution_count": 27,
     "metadata": {},
     "output_type": "execute_result"
    }
   ],
   "source": [
    "genres_worldwide_gross"
   ]
  },
  {
   "cell_type": "code",
   "execution_count": 28,
   "metadata": {},
   "outputs": [
    {
     "data": {
      "text/plain": [
       "Drama                      497\n",
       "Documentary                290\n",
       "Comedy                     140\n",
       "Comedy,Drama               104\n",
       "Horror                      95\n",
       "                          ... \n",
       "Fantasy,Romance              1\n",
       "Family,Sci-Fi                1\n",
       "Comedy,Crime,Horror          1\n",
       "Documentary,History,War      1\n",
       "Drama,Family,History         1\n",
       "Name: genres, Length: 345, dtype: int64"
      ]
     },
     "execution_count": 28,
     "metadata": {},
     "output_type": "execute_result"
    }
   ],
   "source": [
    "# Calculates the number of films per genre, including multiple genres in the same row\n",
    "genres_worldwide_gross['genres'].value_counts()"
   ]
  },
  {
   "cell_type": "code",
   "execution_count": 29,
   "metadata": {},
   "outputs": [],
   "source": [
    "# Converts each value in the genres column to a string\n",
    "genres_worldwide_gross['genres'] = genres_worldwide_gross['genres'].astype(str)"
   ]
  },
  {
   "cell_type": "code",
   "execution_count": 30,
   "metadata": {},
   "outputs": [],
   "source": [
    "# Splits up each genre by discarding the ',' between them in each row\n",
    "genres_worldwide_gross['genres'] = genres_worldwide_gross['genres'].apply(lambda x: x.split(','))"
   ]
  },
  {
   "cell_type": "code",
   "execution_count": 31,
   "metadata": {},
   "outputs": [
    {
     "data": {
      "text/html": [
       "<div>\n",
       "<style scoped>\n",
       "    .dataframe tbody tr th:only-of-type {\n",
       "        vertical-align: middle;\n",
       "    }\n",
       "\n",
       "    .dataframe tbody tr th {\n",
       "        vertical-align: top;\n",
       "    }\n",
       "\n",
       "    .dataframe thead th {\n",
       "        text-align: right;\n",
       "    }\n",
       "</style>\n",
       "<table border=\"1\" class=\"dataframe\">\n",
       "  <thead>\n",
       "    <tr style=\"text-align: right;\">\n",
       "      <th></th>\n",
       "      <th>primary_title</th>\n",
       "      <th>start_year</th>\n",
       "      <th>runtime_minutes</th>\n",
       "      <th>genres</th>\n",
       "      <th>averagerating</th>\n",
       "      <th>movie</th>\n",
       "      <th>production_budget</th>\n",
       "      <th>worldwide_gross</th>\n",
       "    </tr>\n",
       "  </thead>\n",
       "  <tbody>\n",
       "    <tr>\n",
       "      <th>0</th>\n",
       "      <td>Foodfight!</td>\n",
       "      <td>2012</td>\n",
       "      <td>91.0</td>\n",
       "      <td>Action</td>\n",
       "      <td>1.9</td>\n",
       "      <td>Foodfight!</td>\n",
       "      <td>45000000</td>\n",
       "      <td>73706</td>\n",
       "    </tr>\n",
       "    <tr>\n",
       "      <th>0</th>\n",
       "      <td>Foodfight!</td>\n",
       "      <td>2012</td>\n",
       "      <td>91.0</td>\n",
       "      <td>Animation</td>\n",
       "      <td>1.9</td>\n",
       "      <td>Foodfight!</td>\n",
       "      <td>45000000</td>\n",
       "      <td>73706</td>\n",
       "    </tr>\n",
       "    <tr>\n",
       "      <th>0</th>\n",
       "      <td>Foodfight!</td>\n",
       "      <td>2012</td>\n",
       "      <td>91.0</td>\n",
       "      <td>Comedy</td>\n",
       "      <td>1.9</td>\n",
       "      <td>Foodfight!</td>\n",
       "      <td>45000000</td>\n",
       "      <td>73706</td>\n",
       "    </tr>\n",
       "    <tr>\n",
       "      <th>1</th>\n",
       "      <td>Mortal Kombat</td>\n",
       "      <td>2021</td>\n",
       "      <td>NaN</td>\n",
       "      <td>Action</td>\n",
       "      <td>NaN</td>\n",
       "      <td>Mortal Kombat</td>\n",
       "      <td>20000000</td>\n",
       "      <td>122133227</td>\n",
       "    </tr>\n",
       "    <tr>\n",
       "      <th>1</th>\n",
       "      <td>Mortal Kombat</td>\n",
       "      <td>2021</td>\n",
       "      <td>NaN</td>\n",
       "      <td>Adventure</td>\n",
       "      <td>NaN</td>\n",
       "      <td>Mortal Kombat</td>\n",
       "      <td>20000000</td>\n",
       "      <td>122133227</td>\n",
       "    </tr>\n",
       "    <tr>\n",
       "      <th>...</th>\n",
       "      <td>...</td>\n",
       "      <td>...</td>\n",
       "      <td>...</td>\n",
       "      <td>...</td>\n",
       "      <td>...</td>\n",
       "      <td>...</td>\n",
       "      <td>...</td>\n",
       "      <td>...</td>\n",
       "    </tr>\n",
       "    <tr>\n",
       "      <th>3812</th>\n",
       "      <td>Traitor</td>\n",
       "      <td>2015</td>\n",
       "      <td>110.0</td>\n",
       "      <td>Action</td>\n",
       "      <td>NaN</td>\n",
       "      <td>Traitor</td>\n",
       "      <td>22000000</td>\n",
       "      <td>27882226</td>\n",
       "    </tr>\n",
       "    <tr>\n",
       "      <th>3812</th>\n",
       "      <td>Traitor</td>\n",
       "      <td>2015</td>\n",
       "      <td>110.0</td>\n",
       "      <td>Drama</td>\n",
       "      <td>NaN</td>\n",
       "      <td>Traitor</td>\n",
       "      <td>22000000</td>\n",
       "      <td>27882226</td>\n",
       "    </tr>\n",
       "    <tr>\n",
       "      <th>3812</th>\n",
       "      <td>Traitor</td>\n",
       "      <td>2015</td>\n",
       "      <td>110.0</td>\n",
       "      <td>Romance</td>\n",
       "      <td>NaN</td>\n",
       "      <td>Traitor</td>\n",
       "      <td>22000000</td>\n",
       "      <td>27882226</td>\n",
       "    </tr>\n",
       "    <tr>\n",
       "      <th>3813</th>\n",
       "      <td>Ray</td>\n",
       "      <td>2018</td>\n",
       "      <td>111.0</td>\n",
       "      <td>Crime</td>\n",
       "      <td>NaN</td>\n",
       "      <td>Ray</td>\n",
       "      <td>40000000</td>\n",
       "      <td>124823094</td>\n",
       "    </tr>\n",
       "    <tr>\n",
       "      <th>3814</th>\n",
       "      <td>Sublime</td>\n",
       "      <td>2019</td>\n",
       "      <td>NaN</td>\n",
       "      <td>Documentary</td>\n",
       "      <td>NaN</td>\n",
       "      <td>Sublime</td>\n",
       "      <td>1800000</td>\n",
       "      <td>0</td>\n",
       "    </tr>\n",
       "  </tbody>\n",
       "</table>\n",
       "<p>7868 rows × 8 columns</p>\n",
       "</div>"
      ],
      "text/plain": [
       "      primary_title  start_year  runtime_minutes       genres  averagerating  \\\n",
       "0        Foodfight!        2012             91.0       Action            1.9   \n",
       "0        Foodfight!        2012             91.0    Animation            1.9   \n",
       "0        Foodfight!        2012             91.0       Comedy            1.9   \n",
       "1     Mortal Kombat        2021              NaN       Action            NaN   \n",
       "1     Mortal Kombat        2021              NaN    Adventure            NaN   \n",
       "...             ...         ...              ...          ...            ...   \n",
       "3812        Traitor        2015            110.0       Action            NaN   \n",
       "3812        Traitor        2015            110.0        Drama            NaN   \n",
       "3812        Traitor        2015            110.0      Romance            NaN   \n",
       "3813            Ray        2018            111.0        Crime            NaN   \n",
       "3814        Sublime        2019              NaN  Documentary            NaN   \n",
       "\n",
       "              movie  production_budget  worldwide_gross  \n",
       "0        Foodfight!           45000000            73706  \n",
       "0        Foodfight!           45000000            73706  \n",
       "0        Foodfight!           45000000            73706  \n",
       "1     Mortal Kombat           20000000        122133227  \n",
       "1     Mortal Kombat           20000000        122133227  \n",
       "...             ...                ...              ...  \n",
       "3812        Traitor           22000000         27882226  \n",
       "3812        Traitor           22000000         27882226  \n",
       "3812        Traitor           22000000         27882226  \n",
       "3813            Ray           40000000        124823094  \n",
       "3814        Sublime            1800000                0  \n",
       "\n",
       "[7868 rows x 8 columns]"
      ]
     },
     "execution_count": 31,
     "metadata": {},
     "output_type": "execute_result"
    }
   ],
   "source": [
    "# Explodes each row in the genres column; essentially puts each genre in their own row\n",
    "# Creates a new variable called genres_worldwide_gross_df that stores the result of exploding genres in genres_worldwide_gross \n",
    "genres_worldwide_gross_df = genres_worldwide_gross.explode('genres')\n",
    "genres_worldwide_gross_df"
   ]
  },
  {
   "cell_type": "markdown",
   "metadata": {},
   "source": [
    "### Finding the Top Grossing Years\n",
    "Created a new variables called most_grossing_years_df. This variable will help me depict the top grossing years later on. I plan to use the results as a second recommendation to Microsoft."
   ]
  },
  {
   "cell_type": "code",
   "execution_count": 32,
   "metadata": {
    "scrolled": false
   },
   "outputs": [
    {
     "data": {
      "text/html": [
       "<div>\n",
       "<style scoped>\n",
       "    .dataframe tbody tr th:only-of-type {\n",
       "        vertical-align: middle;\n",
       "    }\n",
       "\n",
       "    .dataframe tbody tr th {\n",
       "        vertical-align: top;\n",
       "    }\n",
       "\n",
       "    .dataframe thead th {\n",
       "        text-align: right;\n",
       "    }\n",
       "</style>\n",
       "<table border=\"1\" class=\"dataframe\">\n",
       "  <thead>\n",
       "    <tr style=\"text-align: right;\">\n",
       "      <th></th>\n",
       "      <th>primary_title</th>\n",
       "      <th>start_year</th>\n",
       "      <th>runtime_minutes</th>\n",
       "      <th>genres</th>\n",
       "      <th>averagerating</th>\n",
       "      <th>movie</th>\n",
       "      <th>production_budget</th>\n",
       "      <th>worldwide_gross</th>\n",
       "      <th>studio</th>\n",
       "      <th>year</th>\n",
       "    </tr>\n",
       "  </thead>\n",
       "  <tbody>\n",
       "    <tr>\n",
       "      <th>0</th>\n",
       "      <td>Foodfight!</td>\n",
       "      <td>2012</td>\n",
       "      <td>91.0</td>\n",
       "      <td>Action</td>\n",
       "      <td>1.9</td>\n",
       "      <td>Foodfight!</td>\n",
       "      <td>45000000</td>\n",
       "      <td>73706</td>\n",
       "      <td>BV</td>\n",
       "      <td>2012</td>\n",
       "    </tr>\n",
       "    <tr>\n",
       "      <th>1</th>\n",
       "      <td>Foodfight!</td>\n",
       "      <td>2012</td>\n",
       "      <td>91.0</td>\n",
       "      <td>Action</td>\n",
       "      <td>1.9</td>\n",
       "      <td>Foodfight!</td>\n",
       "      <td>45000000</td>\n",
       "      <td>73706</td>\n",
       "      <td>Sony</td>\n",
       "      <td>2012</td>\n",
       "    </tr>\n",
       "    <tr>\n",
       "      <th>2</th>\n",
       "      <td>Foodfight!</td>\n",
       "      <td>2012</td>\n",
       "      <td>91.0</td>\n",
       "      <td>Action</td>\n",
       "      <td>1.9</td>\n",
       "      <td>Foodfight!</td>\n",
       "      <td>45000000</td>\n",
       "      <td>73706</td>\n",
       "      <td>WB</td>\n",
       "      <td>2012</td>\n",
       "    </tr>\n",
       "    <tr>\n",
       "      <th>3</th>\n",
       "      <td>Foodfight!</td>\n",
       "      <td>2012</td>\n",
       "      <td>91.0</td>\n",
       "      <td>Action</td>\n",
       "      <td>1.9</td>\n",
       "      <td>Foodfight!</td>\n",
       "      <td>45000000</td>\n",
       "      <td>73706</td>\n",
       "      <td>WB (NL)</td>\n",
       "      <td>2012</td>\n",
       "    </tr>\n",
       "    <tr>\n",
       "      <th>4</th>\n",
       "      <td>Foodfight!</td>\n",
       "      <td>2012</td>\n",
       "      <td>91.0</td>\n",
       "      <td>Action</td>\n",
       "      <td>1.9</td>\n",
       "      <td>Foodfight!</td>\n",
       "      <td>45000000</td>\n",
       "      <td>73706</td>\n",
       "      <td>Fox</td>\n",
       "      <td>2012</td>\n",
       "    </tr>\n",
       "  </tbody>\n",
       "</table>\n",
       "</div>"
      ],
      "text/plain": [
       "  primary_title  start_year  runtime_minutes  genres  averagerating  \\\n",
       "0    Foodfight!        2012             91.0  Action            1.9   \n",
       "1    Foodfight!        2012             91.0  Action            1.9   \n",
       "2    Foodfight!        2012             91.0  Action            1.9   \n",
       "3    Foodfight!        2012             91.0  Action            1.9   \n",
       "4    Foodfight!        2012             91.0  Action            1.9   \n",
       "\n",
       "        movie  production_budget  worldwide_gross   studio  year  \n",
       "0  Foodfight!           45000000            73706       BV  2012  \n",
       "1  Foodfight!           45000000            73706     Sony  2012  \n",
       "2  Foodfight!           45000000            73706       WB  2012  \n",
       "3  Foodfight!           45000000            73706  WB (NL)  2012  \n",
       "4  Foodfight!           45000000            73706      Fox  2012  "
      ]
     },
     "execution_count": 32,
     "metadata": {},
     "output_type": "execute_result"
    }
   ],
   "source": [
    "# Creates a new variable called most_grossing_years_df to store the merge between genres_worldwide_gross_df and bom_movie_gross_df \n",
    "# Utilizes genres_worldwide_gross_df in the merge because it already contained the necessary data\n",
    "most_grossing_years_df = pd.merge(genres_worldwide_gross_df,\n",
    "                                 bom_movie_gross_df,\n",
    "                                 left_on=['start_year'],\n",
    "                                 right_on=['year'],\n",
    "                                 how='inner')\n",
    "most_grossing_years_df.head()"
   ]
  },
  {
   "cell_type": "markdown",
   "metadata": {},
   "source": [
    "### Finding the Top Grossing Studio"
   ]
  },
  {
   "cell_type": "markdown",
   "metadata": {},
   "source": [
    "The merge above provides me with the necessary tools to compute the top grossing studio"
   ]
  },
  {
   "cell_type": "code",
   "execution_count": 33,
   "metadata": {},
   "outputs": [
    {
     "data": {
      "text/html": [
       "<div>\n",
       "<style scoped>\n",
       "    .dataframe tbody tr th:only-of-type {\n",
       "        vertical-align: middle;\n",
       "    }\n",
       "\n",
       "    .dataframe tbody tr th {\n",
       "        vertical-align: top;\n",
       "    }\n",
       "\n",
       "    .dataframe thead th {\n",
       "        text-align: right;\n",
       "    }\n",
       "</style>\n",
       "<table border=\"1\" class=\"dataframe\">\n",
       "  <thead>\n",
       "    <tr style=\"text-align: right;\">\n",
       "      <th></th>\n",
       "      <th>primary_title</th>\n",
       "      <th>start_year</th>\n",
       "      <th>runtime_minutes</th>\n",
       "      <th>genres</th>\n",
       "      <th>averagerating</th>\n",
       "      <th>movie</th>\n",
       "      <th>production_budget</th>\n",
       "      <th>worldwide_gross</th>\n",
       "      <th>studio</th>\n",
       "      <th>year</th>\n",
       "    </tr>\n",
       "  </thead>\n",
       "  <tbody>\n",
       "    <tr>\n",
       "      <th>0</th>\n",
       "      <td>Foodfight!</td>\n",
       "      <td>2012</td>\n",
       "      <td>91.0</td>\n",
       "      <td>Action</td>\n",
       "      <td>1.9</td>\n",
       "      <td>Foodfight!</td>\n",
       "      <td>45000000</td>\n",
       "      <td>73706</td>\n",
       "      <td>BV</td>\n",
       "      <td>2012</td>\n",
       "    </tr>\n",
       "    <tr>\n",
       "      <th>1</th>\n",
       "      <td>Foodfight!</td>\n",
       "      <td>2012</td>\n",
       "      <td>91.0</td>\n",
       "      <td>Action</td>\n",
       "      <td>1.9</td>\n",
       "      <td>Foodfight!</td>\n",
       "      <td>45000000</td>\n",
       "      <td>73706</td>\n",
       "      <td>Sony</td>\n",
       "      <td>2012</td>\n",
       "    </tr>\n",
       "    <tr>\n",
       "      <th>2</th>\n",
       "      <td>Foodfight!</td>\n",
       "      <td>2012</td>\n",
       "      <td>91.0</td>\n",
       "      <td>Action</td>\n",
       "      <td>1.9</td>\n",
       "      <td>Foodfight!</td>\n",
       "      <td>45000000</td>\n",
       "      <td>73706</td>\n",
       "      <td>WB</td>\n",
       "      <td>2012</td>\n",
       "    </tr>\n",
       "    <tr>\n",
       "      <th>3</th>\n",
       "      <td>Foodfight!</td>\n",
       "      <td>2012</td>\n",
       "      <td>91.0</td>\n",
       "      <td>Action</td>\n",
       "      <td>1.9</td>\n",
       "      <td>Foodfight!</td>\n",
       "      <td>45000000</td>\n",
       "      <td>73706</td>\n",
       "      <td>WB (NL)</td>\n",
       "      <td>2012</td>\n",
       "    </tr>\n",
       "    <tr>\n",
       "      <th>4</th>\n",
       "      <td>Foodfight!</td>\n",
       "      <td>2012</td>\n",
       "      <td>91.0</td>\n",
       "      <td>Action</td>\n",
       "      <td>1.9</td>\n",
       "      <td>Foodfight!</td>\n",
       "      <td>45000000</td>\n",
       "      <td>73706</td>\n",
       "      <td>Fox</td>\n",
       "      <td>2012</td>\n",
       "    </tr>\n",
       "    <tr>\n",
       "      <th>...</th>\n",
       "      <td>...</td>\n",
       "      <td>...</td>\n",
       "      <td>...</td>\n",
       "      <td>...</td>\n",
       "      <td>...</td>\n",
       "      <td>...</td>\n",
       "      <td>...</td>\n",
       "      <td>...</td>\n",
       "      <td>...</td>\n",
       "      <td>...</td>\n",
       "    </tr>\n",
       "    <tr>\n",
       "      <th>2843437</th>\n",
       "      <td>Ray</td>\n",
       "      <td>2018</td>\n",
       "      <td>111.0</td>\n",
       "      <td>Crime</td>\n",
       "      <td>NaN</td>\n",
       "      <td>Ray</td>\n",
       "      <td>40000000</td>\n",
       "      <td>124823094</td>\n",
       "      <td>Magn.</td>\n",
       "      <td>2018</td>\n",
       "    </tr>\n",
       "    <tr>\n",
       "      <th>2843438</th>\n",
       "      <td>Ray</td>\n",
       "      <td>2018</td>\n",
       "      <td>111.0</td>\n",
       "      <td>Crime</td>\n",
       "      <td>NaN</td>\n",
       "      <td>Ray</td>\n",
       "      <td>40000000</td>\n",
       "      <td>124823094</td>\n",
       "      <td>FM</td>\n",
       "      <td>2018</td>\n",
       "    </tr>\n",
       "    <tr>\n",
       "      <th>2843439</th>\n",
       "      <td>Ray</td>\n",
       "      <td>2018</td>\n",
       "      <td>111.0</td>\n",
       "      <td>Crime</td>\n",
       "      <td>NaN</td>\n",
       "      <td>Ray</td>\n",
       "      <td>40000000</td>\n",
       "      <td>124823094</td>\n",
       "      <td>Sony</td>\n",
       "      <td>2018</td>\n",
       "    </tr>\n",
       "    <tr>\n",
       "      <th>2843440</th>\n",
       "      <td>Ray</td>\n",
       "      <td>2018</td>\n",
       "      <td>111.0</td>\n",
       "      <td>Crime</td>\n",
       "      <td>NaN</td>\n",
       "      <td>Ray</td>\n",
       "      <td>40000000</td>\n",
       "      <td>124823094</td>\n",
       "      <td>Synergetic</td>\n",
       "      <td>2018</td>\n",
       "    </tr>\n",
       "    <tr>\n",
       "      <th>2843441</th>\n",
       "      <td>Ray</td>\n",
       "      <td>2018</td>\n",
       "      <td>111.0</td>\n",
       "      <td>Crime</td>\n",
       "      <td>NaN</td>\n",
       "      <td>Ray</td>\n",
       "      <td>40000000</td>\n",
       "      <td>124823094</td>\n",
       "      <td>Grav.</td>\n",
       "      <td>2018</td>\n",
       "    </tr>\n",
       "  </tbody>\n",
       "</table>\n",
       "<p>2843442 rows × 10 columns</p>\n",
       "</div>"
      ],
      "text/plain": [
       "        primary_title  start_year  runtime_minutes  genres  averagerating  \\\n",
       "0          Foodfight!        2012             91.0  Action            1.9   \n",
       "1          Foodfight!        2012             91.0  Action            1.9   \n",
       "2          Foodfight!        2012             91.0  Action            1.9   \n",
       "3          Foodfight!        2012             91.0  Action            1.9   \n",
       "4          Foodfight!        2012             91.0  Action            1.9   \n",
       "...               ...         ...              ...     ...            ...   \n",
       "2843437           Ray        2018            111.0   Crime            NaN   \n",
       "2843438           Ray        2018            111.0   Crime            NaN   \n",
       "2843439           Ray        2018            111.0   Crime            NaN   \n",
       "2843440           Ray        2018            111.0   Crime            NaN   \n",
       "2843441           Ray        2018            111.0   Crime            NaN   \n",
       "\n",
       "              movie  production_budget  worldwide_gross      studio  year  \n",
       "0        Foodfight!           45000000            73706          BV  2012  \n",
       "1        Foodfight!           45000000            73706        Sony  2012  \n",
       "2        Foodfight!           45000000            73706          WB  2012  \n",
       "3        Foodfight!           45000000            73706     WB (NL)  2012  \n",
       "4        Foodfight!           45000000            73706         Fox  2012  \n",
       "...             ...                ...              ...         ...   ...  \n",
       "2843437         Ray           40000000        124823094       Magn.  2018  \n",
       "2843438         Ray           40000000        124823094          FM  2018  \n",
       "2843439         Ray           40000000        124823094        Sony  2018  \n",
       "2843440         Ray           40000000        124823094  Synergetic  2018  \n",
       "2843441         Ray           40000000        124823094       Grav.  2018  \n",
       "\n",
       "[2843442 rows x 10 columns]"
      ]
     },
     "execution_count": 33,
     "metadata": {},
     "output_type": "execute_result"
    }
   ],
   "source": [
    "# Creates a new variable called most_grossing_studio_df which stores the information of most_grossing_years_df\n",
    "# Copying Most Grossing Years' work to determine the Top Grossing Studio later on \n",
    "most_grossing_studio_df = most_grossing_years_df\n",
    "most_grossing_studio_df"
   ]
  },
  {
   "cell_type": "markdown",
   "metadata": {},
   "source": [
    "## Data Modeling"
   ]
  },
  {
   "cell_type": "markdown",
   "metadata": {},
   "source": [
    "![graph](images/graph.jpg)"
   ]
  },
  {
   "cell_type": "markdown",
   "metadata": {},
   "source": [
    "### Graphing The Top Grossing Genres\n",
    "I created a larger graph detailing the worldwide gross of each genre. Having computed that, I narrowed the graph down to filter out the top five grossing genres. I created a second graph detailing the results."
   ]
  },
  {
   "cell_type": "markdown",
   "metadata": {},
   "source": [
    "#### Creating a Bar Graph - Worldwide Gross Of Each Genre"
   ]
  },
  {
   "cell_type": "code",
   "execution_count": 54,
   "metadata": {},
   "outputs": [
    {
     "data": {
      "text/plain": [
       "Text(0, 0.5, 'Genres')"
      ]
     },
     "execution_count": 54,
     "metadata": {},
     "output_type": "execute_result"
    },
    {
     "data": {
      "image/png": "[encoded data removed]",
      "text/plain": [
       "<Figure size 864x576 with 1 Axes>"
      ]
     },
     "metadata": {},
     "output_type": "display_data"
    }
   ],
   "source": [
    "genres_worldwide_gross_df.groupby(by='genres').mean()['worldwide_gross'].plot(kind='barh', figsize=(12,8))\n",
    "from matplotlib import style\n",
    "plt.style.use(\"seaborn\")\n",
    "plt.title('Worldwide Grossing Genres')\n",
    "plt.xlabel('Worldwide Gross (in hundreds of millions)')\n",
    "plt.ylabel('Genres')"
   ]
  },
  {
   "cell_type": "markdown",
   "metadata": {},
   "source": [
    "#### Creating a Bar Graph - Top Five Grossing Genres"
   ]
  },
  {
   "cell_type": "code",
   "execution_count": 53,
   "metadata": {},
   "outputs": [
    {
     "data": {
      "text/plain": [
       "<AxesSubplot:title={'center':'Top Grossing Genres'}, xlabel='Worldwide Gross (in hundreds of millions)', ylabel='Genres'>"
      ]
     },
     "execution_count": 53,
     "metadata": {},
     "output_type": "execute_result"
    },
    {
     "data": {
      "image/png": "[encoded data removed]",
      "text/plain": [
       "<Figure size 864x576 with 1 Axes>"
      ]
     },
     "metadata": {},
     "output_type": "display_data"
    }
   ],
   "source": [
    "# Creates a new variable top_grossing_genres_df to depict the top five grossing genres\n",
    "top_grossing_genres_df = genres_worldwide_gross_df.groupby(by='genres').mean()['worldwide_gross'].sort_values(ascending=False).head(5).plot(kind='barh', figsize=(12,8))\n",
    "from matplotlib import style\n",
    "plt.style.use(\"seaborn\")\n",
    "plt.title('Top Grossing Genres')\n",
    "plt.xlabel('Worldwide Gross (in hundreds of millions)')\n",
    "plt.ylabel('Genres')\n",
    "top_grossing_genres_df"
   ]
  },
  {
   "cell_type": "markdown",
   "metadata": {},
   "source": [
    "### Graphing The Top Grossing Years\n",
    "Similar to the graphs above, I chose to create a graph highlighting the worldwide gross for each year, filter down to the top five highest grossing years, and create a second graph depicting those results."
   ]
  },
  {
   "cell_type": "markdown",
   "metadata": {},
   "source": [
    "#### Creating a Bar Graph - Worldwide Gross For Each Year"
   ]
  },
  {
   "cell_type": "code",
   "execution_count": 50,
   "metadata": {
    "scrolled": true
   },
   "outputs": [
    {
     "data": {
      "text/plain": [
       "<AxesSubplot:title={'center':'Top Grossing Years'}, xlabel='Worldwide Gross (in hundreds of millions)', ylabel='Years'>"
      ]
     },
     "execution_count": 50,
     "metadata": {},
     "output_type": "execute_result"
    },
    {
     "data": {
      "image/png": "[encoded data removed]",
      "text/plain": [
       "<Figure size 864x576 with 1 Axes>"
      ]
     },
     "metadata": {},
     "output_type": "display_data"
    }
   ],
   "source": [
    "# Creates a new variable grossing_years_df to show the overall top grossing years from 2010 - 2018\n",
    "grossing_years_df = most_grossing_years_df.groupby(by='year').mean()['worldwide_gross'].plot(kind='barh', figsize=(12,8))\n",
    "from matplotlib import style\n",
    "plt.style.use(\"seaborn\")\n",
    "plt.title('Top Grossing Years')\n",
    "plt.xlabel('Worldwide Gross (in hundreds of millions)')\n",
    "plt.ylabel('Years')\n",
    "grossing_years_df"
   ]
  },
  {
   "cell_type": "markdown",
   "metadata": {},
   "source": [
    "#### Creating a Bar Graph - Top Five Grossing Years"
   ]
  },
  {
   "cell_type": "code",
   "execution_count": 49,
   "metadata": {},
   "outputs": [
    {
     "data": {
      "text/plain": [
       "<AxesSubplot:title={'center':'Top Grossing Years'}, xlabel='Worldwide Gross (in hundreds of millions)', ylabel='Years'>"
      ]
     },
     "execution_count": 49,
     "metadata": {},
     "output_type": "execute_result"
    },
    {
     "data": {
      "image/png": "[encoded data removed]",
      "text/plain": [
       "<Figure size 864x576 with 1 Axes>"
      ]
     },
     "metadata": {},
     "output_type": "display_data"
    }
   ],
   "source": [
    "# Creates a new variable top_grossing_years_df to show the top five grossing years from 2010 - 2018\n",
    "top_grossing_years_df = most_grossing_years_df.groupby(by='year').mean()['worldwide_gross'].sort_values(ascending=False).head(5).plot(kind='barh', figsize=(12,8))\n",
    "from matplotlib import style\n",
    "plt.style.use(\"seaborn\")\n",
    "plt.title('Top Grossing Years')\n",
    "plt.xlabel('Worldwide Gross (in hundreds of millions)')\n",
    "plt.ylabel('Years')\n",
    "top_grossing_years_df"
   ]
  },
  {
   "cell_type": "markdown",
   "metadata": {},
   "source": [
    "### Graphing The Top Grossing Studios"
   ]
  },
  {
   "cell_type": "code",
   "execution_count": 52,
   "metadata": {},
   "outputs": [
    {
     "data": {
      "text/plain": [
       "<AxesSubplot:title={'center':'Top Grossing Studios'}, xlabel='Worldwide Gross (in hundreds of millions)', ylabel='Studio'>"
      ]
     },
     "execution_count": 52,
     "metadata": {},
     "output_type": "execute_result"
    },
    {
     "data": {
      "image/png": "[encoded data removed]",
      "text/plain": [
       "<Figure size 864x576 with 1 Axes>"
      ]
     },
     "metadata": {},
     "output_type": "display_data"
    }
   ],
   "source": [
    "top_grossing_studios_df = most_grossing_studio_df.groupby(by='studio').mean()['worldwide_gross'].sort_values(ascending=False).plot(kind='barh', figsize=(12, 8))\n",
    "from matplotlib import style\n",
    "plt.style.use(\"seaborn\")\n",
    "plt.title('Top Grossing Studios')\n",
    "plt.xlabel('Worldwide Gross (in hundreds of millions)')\n",
    "plt.ylabel('Studio')\n",
    "top_grossing_studios_df"
   ]
  },
  {
   "cell_type": "code",
   "execution_count": 64,
   "metadata": {
    "scrolled": true
   },
   "outputs": [
    {
     "data": {
      "text/plain": [
       "<AxesSubplot:title={'center':'Top Grossing Studios'}, xlabel='Worldwide Gross (in hundreds of millions)', ylabel='Studio'>"
      ]
     },
     "execution_count": 64,
     "metadata": {},
     "output_type": "execute_result"
    },
    {
     "data": {
      "image/png": "[encoded data removed]",
      "text/plain": [
       "<Figure size 864x576 with 1 Axes>"
      ]
     },
     "metadata": {},
     "output_type": "display_data"
    }
   ],
   "source": [
    "top_grossing_studios_df = most_grossing_studio_df.groupby(by='studio').mean()['worldwide_gross'].sort_values(ascending=False).head(5).plot(kind='barh', figsize=(12, 8))\n",
    "from matplotlib import style\n",
    "plt.style.use(\"seaborn\")\n",
    "plt.title('Top Grossing Studios')\n",
    "plt.xlabel('Worldwide Gross (in hundreds of millions)')\n",
    "plt.ylabel('Studio')\n",
    "top_grossing_studios_df"
   ]
  },
  {
   "cell_type": "markdown",
   "metadata": {},
   "source": [
    "## Evaluation"
   ]
  },
  {
   "cell_type": "markdown",
   "metadata": {},
   "source": [
    "My primary task with this project was to provide Microsoft's new movie studio with effective recommendations on how they can create successful films. In order to do that, I needed to discover which films were currently successful based off of their worldwide gross and explore variables related to the most grossing films. I chose to measure the most grossing genres, most grossing years, and most grossing studios.\n",
    "\n",
    "My results show that the most grossing genres were Fantasy, Musical, Sci-Fi, Adventure, and Animation; the most grossing years were 2010, 2012, 2016, 2017, and 2018; the most grossing studios were MUBI, Spanglish, Super, Blue Fox, and RLJ. \n",
    "\n",
    "I do feel confident with my results. I believe my results were representative of the entire variable I was exploring. My analysis depicted each variable I explored under the condition of worldwide gross being sorted from highest to lowest, which ultimately sorted each variable in relation to worldwide gross.\n",
    "\n",
    "One issue I have with my results was not showing a value labels for each bar in each bar graph. I struggled with using plt.text in matplotlib to produce the value labels, but I was unable to do it correctly. Regardless, I am still confident that my models and results would benefit Microsoft's new movie studio. It clearly highlights the necessary genres, years, and studios that they should study to enhance their own operations. "
   ]
  },
  {
   "cell_type": "markdown",
   "metadata": {},
   "source": [
    "![microsoft logo](images/microsoft_logo.jpg)"
   ]
  },
  {
   "cell_type": "markdown",
   "metadata": {},
   "source": [
    "## Conclusions"
   ]
  },
  {
   "cell_type": "markdown",
   "metadata": {},
   "source": [
    "Given the top grossing genres, Microsoft's new movie studio could create movies that are fantasies, musicals, science fiction, adventures, or animations. Since these movies were the most grossing, Microsoft's new movie studio could possibly reach larger audiences that enjoy these genres and generate more revenue.\n",
    "\n",
    "Similarly, with regard to the top grossing years, Microsoft's new movie studio can study the films produced in the years 2010, 2012, 2016, 2017, 2018. They can study all aspects of the films produced in this year, such as who directed the top grossing films, what kind of genres the films were, and which actors or actresses starred in these films.\n",
    "\n",
    "Lastly, Microsoft's new movie studio can reach out to the studios MUBI, Spanglish, Super, Blue Fox, and RLJ to see if they would like to do partnerships. Since these studios were the most grossing, Microsoft's new movie studio would have a greater chance of being a top grossing studio as well.\n",
    "\n",
    "To improve this project, I believe investigating more variables such as directors, actresses/actors, or regions would be valuable to Microsoft's new movie studio. It would increase the likelihood of the studio's success given the accuracy in the variables themselves."
   ]
  }
 ],
 "metadata": {
  "kernelspec": {
   "display_name": "Python 3",
   "language": "python",
   "name": "python3"
  },
  "language_info": {
   "codemirror_mode": {
    "name": "ipython",
    "version": 3
   },
   "file_extension": ".py",
   "mimetype": "text/x-python",
   "name": "python",
   "nbconvert_exporter": "python",
   "pygments_lexer": "ipython3",
   "version": "3.8.5"
  }
 },
 "nbformat": 4,
 "nbformat_minor": 4
}
